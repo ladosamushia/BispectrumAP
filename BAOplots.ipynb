{
 "cells": [
  {
   "cell_type": "code",
   "execution_count": 122,
   "metadata": {},
   "outputs": [],
   "source": [
    "using Interpolations\n",
    "using DelimitedFiles\n",
    "using Cubature\n",
    "using Plots\n",
    "using LaTeXStrings"
   ]
  },
  {
   "cell_type": "code",
   "execution_count": 123,
   "metadata": {},
   "outputs": [],
   "source": [
    "kpk = readdlm(\"test_pk.txt\", comments=true)\n",
    "pk_itp = interpolate((kpk[:,1],), kpk[:,2], Gridded(Linear()));"
   ]
  },
  {
   "cell_type": "code",
   "execution_count": 124,
   "metadata": {},
   "outputs": [
    {
     "data": {
      "text/plain": [
       "#149 (generic function with 1 method)"
      ]
     },
     "metadata": {},
     "output_type": "display_data"
    }
   ],
   "source": [
    "b = 2\n",
    "f = 0.7\n",
    "pk2d = (μ, k) -> (b + μ^2*f)^2*pk_itp(k)"
   ]
  },
  {
   "cell_type": "code",
   "execution_count": 125,
   "metadata": {},
   "outputs": [
    {
     "data": {
      "text/plain": [
       "#153 (generic function with 1 method)"
      ]
     },
     "metadata": {},
     "output_type": "display_data"
    }
   ],
   "source": [
    "kp = (k, μ, αV, ϵ) -> k*sqrt(αV^2*ϵ^2*μ^2 + αV^2/ϵ*(1 - μ^2))\n",
    "μp = (k, μ, αV, ϵ) -> μ*αV*ϵ/sqrt(αV^2*ϵ^2*μ^2 + αV^2/ϵ*(1 - μ^2))"
   ]
  },
  {
   "cell_type": "code",
   "execution_count": 126,
   "metadata": {},
   "outputs": [
    {
     "data": {
      "text/plain": [
       "#159 (generic function with 1 method)"
      ]
     },
     "metadata": {},
     "output_type": "display_data"
    }
   ],
   "source": [
    "L0 = x -> 1\n",
    "L2 = x -> (3*x^2 - 1)/2\n",
    "L4 = x -> (35*x^4 - 30*x^2 + 3)/8"
   ]
  },
  {
   "cell_type": "code",
   "execution_count": 127,
   "metadata": {},
   "outputs": [
    {
     "data": {
      "text/plain": [
       "pkprime (generic function with 1 method)"
      ]
     },
     "metadata": {},
     "output_type": "display_data"
    }
   ],
   "source": [
    "function pkprime(kgrid, weight, αV, ϵ)\n",
    "    Nk = size(kgrid)[1]\n",
    "    pp = zeros(Nk)\n",
    "    for i in 1:Nk\n",
    "        pp[i] = hquadrature(x -> pk2d(μp(kgrid[i], x, αV, ϵ), kp(kgrid[i], x, αV, ϵ))*weight(x), -1, 1, reltol=1e-4)[1]\n",
    "    end\n",
    "    return pp\n",
    "end"
   ]
  },
  {
   "cell_type": "code",
   "execution_count": 128,
   "metadata": {},
   "outputs": [],
   "source": [
    "function pell(kgrid, αV, ϵ)\n",
    "    p0 = pkprime(kgrid, L0, αV, ϵ)*1/2\n",
    "    p2 = pkprime(kgrid, L2, αV, ϵ)*5/2\n",
    "    p4 = pkprime(kgrid, L4, αV, ϵ)*9/2\n",
    "    return p0, p2, p4\n",
    "end\n",
    "kgrid = collect(range(0.00, 0.20, step=0.01))\n",
    "αV = 1.00\n",
    "ϵ = 1.00\n",
    "p0ref, p2ref, p4ref = pell(kgrid, αV, ϵ)\n",
    "p0refp, p2refp, p4refp = pell(kgrid .+ 0.001, αV, ϵ)\n",
    "dp0 = (p0refp .- p0ref)/0.001.*kgrid\n",
    "dp2 = (p2refp .- p2ref)/0.001.*kgrid\n",
    "dp4 = (p4refp .- p4ref)/0.001.*kgrid;"
   ]
  },
  {
   "cell_type": "code",
   "execution_count": 153,
   "metadata": {},
   "outputs": [
    {
     "name": "stderr",
     "output_type": "stream",
     "text": [
      "latex: failed to create a dvi file\n",
      "latex: failed to create a dvi file\n",
      "latex: failed to create a dvi file\n",
      "latex: failed to create a dvi file\n",
      "latex: failed to create a dvi file\n",
      "latex: failed to create a dvi file\n",
      "latex: failed to create a dvi file\n",
      "latex: failed to create a dvi file\n",
      "latex: failed to create a dvi file\n",
      "latex: failed to create a dvi file\n",
      "latex: failed to create a dvi file\n",
      "latex: failed to create a dvi file\n",
      "latex: failed to create a dvi file\n",
      "latex: failed to create a dvi file\n",
      "latex: failed to create a dvi file\n",
      "latex: failed to create a dvi file\n",
      "latex: failed to create a dvi file\n",
      "latex: failed to create a dvi file\n"
     ]
    }
   ],
   "source": [
    "function pellth(p0ref, p2ref, p4ref, dp0, dp2, dp4, α, ϵ)\n",
    "    δα = αV - 1\n",
    "    δϵ = ϵ - 1\n",
    "    p0th = p0ref + dp0*δα + (1/5)*dp2*δϵ + (3/5)*p2ref*δϵ\n",
    "    p2th = p2ref + dp2*δα + (1)*dp0*δϵ + (2/7)*dp2*δϵ + (2/7)*dp4*δϵ + (3/7)*p2ref*δϵ + (10/7)*p4ref*δϵ\n",
    "    p4th = p4ref + dp4*δα + (18/35)*dp2*δϵ + (20/77)*dp4*δϵ + (-36/35)*p2ref*δϵ + (30/77)*p4ref*δϵ\n",
    "    return p0th, p2th, p4th\n",
    "end\n",
    "αV = 1.01\n",
    "ϵ = 1.00\n",
    "p0, p2, p4 = pell(kgrid, αV, ϵ)\n",
    "p0th, p2th, p4th = pellth(p0ref, p2ref, p4ref, dp0, dp2, dp4, αV, ϵ)\n",
    "plot(kgrid, p0./p0ref, color=:red, label=L\"\\alpha_V \\pm 1\\%\", layout=(3,1), size=(600, 800), dpi=500)\n",
    "scatter!(kgrid, p0th./p0ref, color=:red, label=:none, subplot=1, xaxis=:false)\n",
    "plot!(kgrid, p2./p2ref, color=:red, label=L\"\\alpha_V \\pm 1\\%\", subplot=2)\n",
    "scatter!(kgrid, p2th./p2ref, color=:red, label=:none, subplot=2, xaxis=:false)\n",
    "plot!(kgrid, p4./p4ref, color=:red, label=L\"\\alpha_V \\pm 1\\%\", subplot=3)\n",
    "scatter!(kgrid, p4th./p4ref, color=:red, label=:none, subplot=3)\n",
    "αV = 0.99\n",
    "ϵ = 1.00\n",
    "p0, p2, p4 = pell(kgrid, αV, ϵ)\n",
    "p0th, p2th, p4th = pellth(p0ref, p2ref, p4ref, dp0, dp2, dp4, αV, ϵ)\n",
    "plot!(kgrid, p0./p0ref, color=:red, label=:none, subplot=1)\n",
    "scatter!(kgrid, p0th./p0ref, color=:red, label=:none, subplot=1)\n",
    "plot!(kgrid, p2./p2ref, color=:red, label=:none,subplot=2)\n",
    "scatter!(kgrid, p2th./p2ref, color=:red, label=:none,subplot=2)\n",
    "plot!(kgrid, p4./p4ref, color=:red, label=:none,subplot=3)\n",
    "scatter!(kgrid, p4th./p4ref, color=:red, label=:none,subplot=3)\n",
    "αV = 1.00\n",
    "ϵ = 1.01\n",
    "p0, p2, p4 = pell(kgrid, αV, ϵ)\n",
    "p0th, p2th, p4th = pellth(p0ref, p2ref, p4ref, dp0, dp2, dp4, αV, ϵ)\n",
    "plot!(kgrid, p0./p0ref, color=:blue, label=L\"\\alpha_\\epsilon \\pm 1\\%\", subplot=1)\n",
    "scatter!(kgrid, p0th./p0ref, color=:blue, label=:none, subplot=1)\n",
    "plot!(kgrid, p2./p2ref, color=:blue, label=L\"\\alpha_\\epsilon \\pm 1\\%\", subplot=2)\n",
    "scatter!(kgrid, p2th./p2ref, color=:blue, label=:none, subplot=2)\n",
    "plot!(kgrid, p4./p4ref, color=:blue, label=L\"\\alpha_\\epsilon \\pm 1\\%\", subplot=3)\n",
    "scatter!(kgrid, p4th./p4ref, color=:blue, label=:none, subplot=3)\n",
    "αV = 1.00\n",
    "ϵ = 0.99\n",
    "p0, p2, p4 = pell(kgrid, αV, ϵ)\n",
    "p0th, p2th, p4th = pellth(p0ref, p2ref, p4ref, dp0, dp2, dp4, αV, ϵ)\n",
    "plot!(kgrid, p0./p0ref, color=:blue, label=:none, legend=:topleft, subplot=1)\n",
    "scatter!(kgrid, p0th./p0ref, color=:blue, label=:none, subplot=1)\n",
    "plot!(kgrid, p2./p2ref, color=:blue, label=:none, legend=:topleft, subplot=2)\n",
    "scatter!(kgrid, p2th./p2ref, color=:blue, label=:none, subplot=2)\n",
    "plot!(kgrid, p4./p4ref, color=:blue, label=:none, legend=:topleft, subplot=3)\n",
    "scatter!(kgrid, p4th./p4ref, color=:blue, label=:none, subplot=3)\n",
    "plot!(xlabel=\"wavenumber in Mpc/h\", ylabel=L\"P_4/P^\\mathrm{ref}_4\", subplot=3)\n",
    "plot!(ylabel=L\"P_2/P^\\mathrm{ref}_2\", subplot=2)\n",
    "plot!(ylabel=L\"P_0/P^\\mathrm{ref}_0\", subplot=1)\n",
    "plot!(xrange=(0,0.20), yrange=(0.97,1.03),grid=true,tickfontsize=12,fontfamily=\"Arial\",minorticks=:true,minorgrid=true, subplot=1)\n",
    "plot!(xrange=(0,0.20), yrange=(0.94,1.06), yticks=([0.94, 0.96, 0.98, 1.00, 1.02, 1.04, 1.06]), grid=true,fontfamily=\"Arial\",tickfontsize=12,minorticks=:true,minorgrid=true, subplot=2)\n",
    "plot!(xrange=(0,0.20), yrange=(0.5,1.5),grid=true,fontfamily=\"Arial\",minorticks=:true,minorgrid=true,guidefontsize=14,tickfontsize=12,subplot=3)\n",
    "annotate!(0.04, 0.975, \"Monopole\", fontfamily=\"Arial\", subplot=1)\n",
    "annotate!(0.04, 0.95, \"Quadrupole\", fontfamily=\"Arial\", subplot=2)\n",
    "annotate!(0.04, 0.60, \"Hexadecapole\", fontfamily=\"Arial\", subplot=3)\n",
    "savefig(\"Pap.pdf\")\n"
   ]
  },
  {
   "cell_type": "code",
   "execution_count": 130,
   "metadata": {},
   "outputs": [
    {
     "data": {
      "text/plain": [
       "bk5d (generic function with 1 method)"
      ]
     },
     "metadata": {},
     "output_type": "display_data"
    }
   ],
   "source": [
    "function solve_triangular_geometry(μ1, ϕ, k1, k2, k3)\n",
    "    μ12 = (k1^2 + k2^2 - k3^2)/(2*k1*k2)\n",
    "    μ31 = (k3^2 + k1^2 - k2^2)/(2*k3*k1)\n",
    "    μ23 = (k2^2 + k3^2 - k1^2)/(2*k2*k3)\n",
    "    #println(μ12, \" \", μ1)\n",
    "    μ3 = - μ1*μ12 - sqrt(1 - μ1^2)*sqrt(1 - μ12^2)*cos(ϕ)\n",
    "    μ2 = -(μ1*k1 + μ3*k3)/k2\n",
    "    return μ2, μ3, μ12, μ23, μ31\n",
    "end\n",
    "\n",
    "function tree_level_bk(μ1, ϕ, k1, k2, k3, b1, b2, f, pk)\n",
    "\n",
    "    pk1 = pk(k1)\n",
    "    pk2 = pk(k2)\n",
    "    pk3 = pk(k3)\n",
    "\n",
    "    μ2, μ3, μ12, μ23, μ31 = solve_triangular_geometry(μ1, ϕ, k1, k2, k3)\n",
    " \n",
    "    Z1k1 = b1 + f*μ1^2\n",
    "    Z1k2 = b1 + f*μ2^2\n",
    "    Z1k3 = b1 + f*μ3^2\n",
    " \n",
    "    F12 = 5/7 + μ12/2*(k1/k2 + k2/k1) + 2/7*μ12^2\n",
    "    F23 = 5/7 + μ23/2*(k2/k3 + k3/k2) + 2/7*μ23^2\n",
    "    F31 = 5/7 + μ31/2*(k3/k1 + k1/k3) + 2/7*μ31^2\n",
    " \n",
    "    G12 = 3/7 + μ12/2*(k1/k2 + k2/k1) + 4/7*μ12^2\n",
    "    G23 = 3/7 + μ23/2*(k2/k3 + k3/k2) + 4/7*μ23^2\n",
    "    G31 = 3/7 + μ31/2*(k3/k1 + k1/k3) + 4/7*μ31^2\n",
    " \n",
    "    Z2k12 = b2/2. + b1*F12 + f*μ3^2*G12\n",
    "    Z2k12 -= f*μ3*k3/2*(μ1/k1*Z1k2 + μ2/k2*Z1k1)\n",
    "    Z2k23 = b2/2. + b1*F23 + f*μ1^2*G23\n",
    "    Z2k23 -= f*μ1*k1/2*(μ2/k2*Z1k3 + μ3/k3*Z1k2)\n",
    "    Z2k31 = b2/2. + b1*F31 + f*μ2^2*G31\n",
    "    Z2k31 -= f*μ2*k2/2*(μ3/k3*Z1k1 + μ1/k1*Z1k3)\n",
    "\n",
    "    Bi = Z2k12*Z1k1*Z1k2*pk1*pk2\n",
    "    Bi += Z2k23*Z1k2*Z1k3*pk2*pk3\n",
    "    Bi += Z2k31*Z1k3*Z1k1*pk3*pk1\n",
    " \n",
    "    return 2*Bi \n",
    "end\n",
    "\n",
    "function bk5d(μ, ϕ, k1, k2, k3)\n",
    "    return tree_level_bk(μ, ϕ, k1, k2, k3, 2, 0.6, 0.7, pk_itp)\n",
    "end"
   ]
  },
  {
   "cell_type": "code",
   "execution_count": 131,
   "metadata": {},
   "outputs": [
    {
     "data": {
      "text/plain": [
       "ϕt (generic function with 1 method)"
      ]
     },
     "metadata": {},
     "output_type": "display_data"
    }
   ],
   "source": [
    "function k1t(k1, k2, k3, μ, ϕ, αV, ϵ)\n",
    "    Apar = αV*ϵ\n",
    "    Aperp = αV/sqrt(ϵ)\n",
    "    return k1 * sqrt(Apar^2 * μ^2 + Aperp^2 * (1 - μ^2))\n",
    "end\n",
    "function k2t(k1, k2, k3, μ, ϕ, αV, ϵ)\n",
    "    d = (k1^2 + k3^2 - k2^2)/(2*k1)\n",
    "    r = sqrt(k3^2 - d^2)\n",
    "    eps1 = atan((r*cos(ϕ))/d)\n",
    "    Apar = αV*ϵ\n",
    "    Aperp = αV/sqrt(ϵ)\n",
    "    theta = acos(μ)\n",
    "    return sqrt(k2^2 + (Apar-1)^2 * (k1 - k3*sqrt(1 - (r^2 * (sin(ϕ))^2)/k3^2)*(cos(eps1 + theta))^2)^2 + (Aperp-1)^2 * (k1 - k3*sqrt(1 - (r^2 * (sin(ϕ))^2)/k3^2)*(sin(eps1 + theta))^2)^2 + (r^2 * ((Aperp - 1)^2 *sin(ϕ))^2)/k3^2)\n",
    "end\n",
    "function k3t(k1, k2, k3, μ, ϕ, αV, ϵ)\n",
    "    d = (k1^2 + k3^2 - k2^2)/(2*k1)\n",
    "    r = sqrt(k3^2 - d^2)\n",
    "    eps1 = atan((r*cos(ϕ))/d)\n",
    "    Apar = αV*ϵ\n",
    "    Aperp = αV/sqrt(ϵ)\n",
    "    theta = acos(μ)\n",
    "    return  k3 * sqrt((1 - (r^2 * (sin(ϕ))^2)/k3^2)*(((cos(eps1 + theta))^2)*Apar + ((sin(eps1 + theta))^2)*Aperp ) + (r^2 * (sin(ϕ))^2 * Aperp )/k3^2)\n",
    "end\n",
    "function μt(k1, k2, k3, μ, ϕ, αV, ϵ)\n",
    "    return μ*αV*ϵ/sqrt(αV^2*ϵ^2*μ^2 + αV^2/ϵ*(1 - μ^2))\n",
    "end\n",
    "function ϕt(k1, k2, k3, μ, ϕ, αV, ϵ) \n",
    "    d = (k1^2 + k3^2 - k2^2)/(2*k1)\n",
    "    Aperp = αV/sqrt(ϵ)\n",
    "    r = sqrt(k3^2 - d^2)\n",
    "    dt = (k1t^2 + k3t^2 - k2t^2)/(2*k1t)\n",
    "    rt = sqrt(k3t^2 - dt^2)\n",
    "    return asin((r/rt)*sin(ϕ)*Aperp) \n",
    "end"
   ]
  },
  {
   "cell_type": "code",
   "execution_count": 132,
   "metadata": {},
   "outputs": [
    {
     "data": {
      "text/plain": [
       "b40equi (generic function with 1 method)"
      ]
     },
     "metadata": {},
     "output_type": "display_data"
    }
   ],
   "source": [
    "function Y00(x)\n",
    "    return 1/2/sqrt(π)\n",
    "end\n",
    "function Y20(x)\n",
    "    return sqrt(5)/4/sqrt(π)*(3*cos.(x).^2 .-1)\n",
    "end\n",
    "function Y40(x)\n",
    "    return 3/16/sqrt(π)*(35*cos.(x).^4 .-30*cos.(x).^2 .+3)\n",
    "end\n",
    "function b00equi(k1, k2, k3, αV, ϵ)\n",
    "    Nk = size(kgrid)[1]\n",
    "    pp = zeros(Nk)\n",
    "    for i in 2:Nk\n",
    "        pp[i] = hcubature(x -> \n",
    "            bk5d(μt(k1[i], k2[i], k3[i], cos(x[1]), x[2], αV, ϵ), \n",
    "                ϕt(k1[i], k2[i], k3[i], cos(x[1]), x[2], αV, ϵ), \n",
    "                k1t(k1[i], k2[i], k3[i], cos(x[1]), x[2], αV, ϵ), \n",
    "                k2t(k1[i], k2[i], k3[i], cos(x[1]), x[2], αV, ϵ), \n",
    "                k3t(k1[i], k2[i], k3[i], cos(x[1]), x[2], αV, ϵ))\n",
    "                *Y00(x[1])*sin(x[1]), [0, 0], [π, 2*π], reltol=1e-4)[1]\n",
    "    end\n",
    "    return pp\n",
    "end\n",
    "function b20equi(k1, k2, k3, αV, ϵ)\n",
    "    Nk = size(kgrid)[1]\n",
    "    pp = zeros(Nk)\n",
    "    for i in 2:Nk\n",
    "        pp[i] = hcubature(x -> \n",
    "        bk5d(μt(k1[i], k2[i], k3[i], cos(x[1]), x[2], αV, ϵ), \n",
    "            ϕt(k1[i], k2[i], k3[i], cos(x[1]), x[2], αV, ϵ), \n",
    "            k1t(k1[i], k2[i], k3[i], cos(x[1]), x[2], αV, ϵ), \n",
    "            k2t(k1[i], k2[i], k3[i], cos(x[1]), x[2], αV, ϵ), \n",
    "            k3t(k1[i], k2[i], k3[i], cos(x[1]), x[2], αV, ϵ))\n",
    "            *Y00(x[1])*sin(x[1]), [0, 0], [π, 2*π], reltol=1e-4)[1]\n",
    "    end\n",
    "    return pp\n",
    "end\n",
    "function b40equi(k1, k2, k3, αV, ϵ)\n",
    "    Nk = size(kgrid)[1]\n",
    "    pp = zeros(Nk)\n",
    "    for i in 2:Nk\n",
    "        pp[i] = hcubature(x -> \n",
    "        bk5d(μt(k1[i], k2[i], k3[i], cos(x[1]), x[2], αV, ϵ), \n",
    "            ϕt(k1[i], k2[i], k3[i], cos(x[1]), x[2], αV, ϵ), \n",
    "            k1t(k1[i], k2[i], k3[i], cos(x[1]), x[2], αV, ϵ), \n",
    "            k2t(k1[i], k2[i], k3[i], cos(x[1]), x[2], αV, ϵ), \n",
    "            k3t(k1[i], k2[i], k3[i], cos(x[1]), x[2], αV, ϵ))\n",
    "            *Y00(x[1])*sin(x[1]), [0, 0], [π, 2*π], reltol=1e-4)[1]\n",
    "    end\n",
    "    return pp\n",
    "end"
   ]
  },
  {
   "cell_type": "code",
   "execution_count": 133,
   "metadata": {},
   "outputs": [
    {
     "ename": "MethodError",
     "evalue": "MethodError: no method matching ^(::typeof(k1t), ::Int64)\nClosest candidates are:\n  ^(!Matched::Union{AbstractChar, AbstractString}, ::Integer) at strings/basic.jl:718\n  ^(!Matched::Complex{var\"#s77\"} where var\"#s77\"<:AbstractFloat, ::Integer) at complex.jl:818\n  ^(!Matched::Complex{var\"#s77\"} where var\"#s77\"<:Integer, ::Integer) at complex.jl:820\n  ...",
     "output_type": "error",
     "traceback": [
      "MethodError: no method matching ^(::typeof(k1t), ::Int64)\n",
      "Closest candidates are:\n",
      "  ^(!Matched::Union{AbstractChar, AbstractString}, ::Integer) at strings/basic.jl:718\n",
      "  ^(!Matched::Complex{var\"#s77\"} where var\"#s77\"<:AbstractFloat, ::Integer) at complex.jl:818\n",
      "  ^(!Matched::Complex{var\"#s77\"} where var\"#s77\"<:Integer, ::Integer) at complex.jl:820\n",
      "  ...\n",
      "\n",
      "Stacktrace:\n",
      " [1] (::Cubature.var\"#17#18\"{Bool, Bool, Int64, Float64, Int64, Int64, Int32, Ptr{Nothing}, Cubature.IntegrandData{var\"#163#164\"{Vector{Float64}, Vector{Float64}, Vector{Float64}, Float64, Float64, Int64}}, Vector{Float64}, Vector{Float64}, Vector{Float64}, Vector{Float64}, Int64})()\n",
      "   @ Cubature C:\\Users\\lado\\.julia\\packages\\Cubature\\5zwuu\\src\\Cubature.jl:215\n",
      " [2] disable_sigint(f::Cubature.var\"#17#18\"{Bool, Bool, Int64, Float64, Int64, Int64, Int32, Ptr{Nothing}, Cubature.IntegrandData{var\"#163#164\"{Vector{Float64}, Vector{Float64}, Vector{Float64}, Float64, Float64, Int64}}, Vector{Float64}, Vector{Float64}, Vector{Float64}, Vector{Float64}, Int64})\n",
      "   @ Base .\\c.jl:458\n",
      " [3] cubature(xscalar::Bool, fscalar::Bool, vectorized::Bool, padaptive::Bool, fdim::Int64, f::var\"#163#164\"{Vector{Float64}, Vector{Float64}, Vector{Float64}, Float64, Float64, Int64}, xmin_::Vector{Int64}, xmax_::Vector{Float64}, reqRelError::Float64, reqAbsError::Int64, maxEval::Int64, error_norm::Int32)\n",
      "   @ Cubature C:\\Users\\lado\\.julia\\packages\\Cubature\\5zwuu\\src\\Cubature.jl:169\n",
      " [4] hcubature(f::Function, xmin::Vector{Int64}, xmax::Vector{Float64}; reltol::Float64, abstol::Int64, maxevals::Int64)\n",
      "   @ Cubature C:\\Users\\lado\\.julia\\packages\\Cubature\\5zwuu\\src\\Cubature.jl:230\n",
      " [5] b00equi(k1::Vector{Float64}, k2::Vector{Float64}, k3::Vector{Float64}, αV::Float64, ϵ::Float64)\n",
      "   @ Main d:\\home\\Khomeriki\\BAOplots.ipynb:14\n",
      " [6] top-level scope\n",
      "   @ d:\\home\\Khomeriki\\BAOplots.ipynb:1"
     ]
    }
   ],
   "source": [
    "B00fid = b00equi(kgrid, kgrid, kgrid, 1.00, 1.00);\n",
    "B00ap = b00equi(kgrid, kgrid, kgrid, 1.01, 1.00);\n",
    "B00am = b00equi(kgrid, kgrid, kgrid, 0.99, 1.00);\n",
    "B00ep = b00equi(kgrid, kgrid, kgrid, 1.00, 1.01);\n",
    "B00em = b00equi(kgrid, kgrid, kgrid, 1.00, 0.99);\n",
    "B20fid = b20equi(kgrid, kgrid, kgrid, 1.00, 1.00);\n",
    "B20ap = b20equi(kgrid, kgrid, kgrid, 1.01, 1.00);\n",
    "B20am = b20equi(kgrid, kgrid, kgrid, 0.99, 1.00);\n",
    "B20ep = b20equi(kgrid, kgrid, kgrid, 1.00, 1.01);\n",
    "B20em = b20equi(kgrid, kgrid, kgrid, 1.00, 0.99);\n",
    "B40fid = b40equi(kgrid, kgrid, kgrid, 1.00, 1.00);\n",
    "B40ap = b40equi(kgrid, kgrid, kgrid, 1.01, 1.00);\n",
    "B40am = b40equi(kgrid, kgrid, kgrid, 0.99, 1.00);\n",
    "B40ep = b40equi(kgrid, kgrid, kgrid, 1.00, 1.01);\n",
    "B40em = b40equi(kgrid, kgrid, kgrid, 1.00, 0.99);\n"
   ]
  },
  {
   "cell_type": "code",
   "execution_count": 134,
   "metadata": {},
   "outputs": [
    {
     "ename": "MethodError",
     "evalue": "MethodError: no method matching ^(::typeof(k1t), ::Int64)\nClosest candidates are:\n  ^(!Matched::Union{AbstractChar, AbstractString}, ::Integer) at strings/basic.jl:718\n  ^(!Matched::Complex{var\"#s77\"} where var\"#s77\"<:AbstractFloat, ::Integer) at complex.jl:818\n  ^(!Matched::Complex{var\"#s77\"} where var\"#s77\"<:Integer, ::Integer) at complex.jl:820\n  ...",
     "output_type": "error",
     "traceback": [
      "MethodError: no method matching ^(::typeof(k1t), ::Int64)\n",
      "Closest candidates are:\n",
      "  ^(!Matched::Union{AbstractChar, AbstractString}, ::Integer) at strings/basic.jl:718\n",
      "  ^(!Matched::Complex{var\"#s77\"} where var\"#s77\"<:AbstractFloat, ::Integer) at complex.jl:818\n",
      "  ^(!Matched::Complex{var\"#s77\"} where var\"#s77\"<:Integer, ::Integer) at complex.jl:820\n",
      "  ...\n",
      "\n",
      "Stacktrace:\n",
      " [1] (::Cubature.var\"#17#18\"{Bool, Bool, Int64, Float64, Int64, Int64, Int32, Ptr{Nothing}, Cubature.IntegrandData{var\"#163#164\"{Vector{Float64}, Vector{Float64}, Vector{Float64}, Float64, Float64, Int64}}, Vector{Float64}, Vector{Float64}, Vector{Float64}, Vector{Float64}, Int64})()\n",
      "   @ Cubature C:\\Users\\lado\\.julia\\packages\\Cubature\\5zwuu\\src\\Cubature.jl:215\n",
      " [2] disable_sigint(f::Cubature.var\"#17#18\"{Bool, Bool, Int64, Float64, Int64, Int64, Int32, Ptr{Nothing}, Cubature.IntegrandData{var\"#163#164\"{Vector{Float64}, Vector{Float64}, Vector{Float64}, Float64, Float64, Int64}}, Vector{Float64}, Vector{Float64}, Vector{Float64}, Vector{Float64}, Int64})\n",
      "   @ Base .\\c.jl:458\n",
      " [3] cubature(xscalar::Bool, fscalar::Bool, vectorized::Bool, padaptive::Bool, fdim::Int64, f::var\"#163#164\"{Vector{Float64}, Vector{Float64}, Vector{Float64}, Float64, Float64, Int64}, xmin_::Vector{Int64}, xmax_::Vector{Float64}, reqRelError::Float64, reqAbsError::Int64, maxEval::Int64, error_norm::Int32)\n",
      "   @ Cubature C:\\Users\\lado\\.julia\\packages\\Cubature\\5zwuu\\src\\Cubature.jl:169\n",
      " [4] hcubature(f::Function, xmin::Vector{Int64}, xmax::Vector{Float64}; reltol::Float64, abstol::Int64, maxevals::Int64)\n",
      "   @ Cubature C:\\Users\\lado\\.julia\\packages\\Cubature\\5zwuu\\src\\Cubature.jl:230\n",
      " [5] b00equi(k1::Vector{Float64}, k2::Vector{Float64}, k3::Vector{Float64}, αV::Float64, ϵ::Float64)\n",
      "   @ Main d:\\home\\Khomeriki\\BAOplots.ipynb:14\n",
      " [6] top-level scope\n",
      "   @ d:\\home\\Khomeriki\\BAOplots.ipynb:2"
     ]
    }
   ],
   "source": [
    "# log derivatives\n",
    "dB00k1 = (b00equi(kgrid*(1 + 1e-6), kgrid, kgrid, 1.00, 1.00) .- b00equi(kgrid, kgrid, kgrid, 1.00, 1.00))/1e-6;\n",
    "dB00k2 = (b00equi(kgrid, kgrid*(1 + 1e-6), kgrid, 1.00, 1.00) .- b00equi(kgrid, kgrid, kgrid, 1.00, 1.00))/1e-6;\n",
    "dB00k3 = (b00equi(kgrid, kgrid, kgrid*(1 + 1e-6), 1.00, 1.00) .- b00equi(kgrid, kgrid, kgrid, 1.00, 1.00))/1e-6;\n",
    "dB20k1 = (b20equi(kgrid*(1 + 1e-6), kgrid, kgrid, 1.00, 1.00) .- b20equi(kgrid, kgrid, kgrid, 1.00, 1.00))/1e-6;\n",
    "dB20k2 = (b20equi(kgrid, kgrid*(1 + 1e-6), kgrid, 1.00, 1.00) .- b20equi(kgrid, kgrid, kgrid, 1.00, 1.00))/1e-6;\n",
    "dB20k3 = (b20equi(kgrid, kgrid, kgrid*(1 + 1e-6), 1.00, 1.00) .- b20equi(kgrid, kgrid, kgrid, 1.00, 1.00))/1e-6;\n",
    "dB40k1 = (b40equi(kgrid*(1 + 1e-6), kgrid, kgrid, 1.00, 1.00) .- b40equi(kgrid, kgrid, kgrid, 1.00, 1.00))/1e-6;\n",
    "dB40k2 = (b40equi(kgrid, kgrid*(1 + 1e-6), kgrid, 1.00, 1.00) .- b40equi(kgrid, kgrid, kgrid, 1.00, 1.00))/1e-6;\n",
    "dB40k3 = (b40equi(kgrid, kgrid, kgrid*(1 + 1e-6), 1.00, 1.00) .- b40equi(kgrid, kgrid, kgrid, 1.00, 1.00))/1e-6;"
   ]
  },
  {
   "cell_type": "code",
   "execution_count": 135,
   "metadata": {},
   "outputs": [
    {
     "ename": "UndefVarError",
     "evalue": "UndefVarError: B00fid not defined",
     "output_type": "error",
     "traceback": [
      "UndefVarError: B00fid not defined\n",
      "\n",
      "Stacktrace:\n",
      " [1] top-level scope\n",
      "   @ d:\\home\\Khomeriki\\BAOplots.ipynb:1"
     ]
    }
   ],
   "source": [
    "scatter(kgrid, B00fid./B00ap, label=:none, color=:red, layout=(3,1), size=(650, 800), dpi=300, subplot=1)\n",
    "scatter!(kgrid, B00fid./B00am, label=:none, color=:red, subplot=1)\n",
    "scatter!(kgrid, B00fid./B00ep, label=:none, color=:blue, subplot=1)\n",
    "scatter!(kgrid, B00fid./B00em, label=:none, color=:blue, subplot=1)\n",
    "αV = 1.01; ϵ=1.00\n",
    "δαV = 1 - αV; δϵ = 1 - ϵ\n",
    "B00th = B00fid \n",
    "B00th += dB00k1*δαV + dB00k2*δαV + dB00k3*δαV \n",
    "B00th += dB20k1*δϵ/sqrt(5) + dB20k2*δϵ/8/sqrt(5) + dB20k3*δϵ/8/sqrt(5) \n",
    "B00th += B20fid*δϵ*3/sqrt(5)\n",
    "plot!(kgrid, B00fid./B00th, label=:none, color=:red, subplot=1)\n",
    "αV = 0.99; ϵ=1.00\n",
    "δαV = 1 - αV; δϵ = 1 - ϵ\n",
    "B00th = B00fid .+ dB00k1*δαV + dB00k2*δαV + dB00k3*δαV + dB20k1*δϵ/sqrt(5) + dB20k2*δϵ/8/sqrt(5) + dB20k3*δϵ/8/sqrt(5)  + B20fid*δϵ*3/sqrt(5)\n",
    "plot!(kgrid, B00fid./B00th, label=:none, color=:red, subplot=1)\n",
    "αV = 1.00; ϵ=1.01\n",
    "δαV = 1 - αV; δϵ = 1 - ϵ\n",
    "B00th = B00fid .+ dB00k1*δαV + dB00k2*δαV + dB00k3*δαV + dB20k1*δϵ/sqrt(5) + dB20k2*δϵ/8/sqrt(5) + dB20k3*δϵ/8/sqrt(5)  + B20fid*δϵ*3/sqrt(5)\n",
    "plot!(kgrid, B00fid./B00th, label=:none, color=:blue, subplot=1)\n",
    "αV = 1.00; ϵ=0.99\n",
    "δαV = 1 - αV; δϵ = 1 - ϵ\n",
    "B00th = B00fid .+ dB00k1*δαV + dB00k2*δαV + dB00k3*δαV + dB20k1*δϵ/sqrt(5) + dB20k2*δϵ/8/sqrt(5) + dB20k3*δϵ/8/sqrt(5)  + B20fid*δϵ*3/sqrt(5)\n",
    "plot!(kgrid, B00fid./B00th, label=:none, color=:blue, subplot=1)\n",
    "scatter!(kgrid, B20fid./B20ap, label=:none, color=:red, subplot=2)\n",
    "scatter!(kgrid, B20fid./B20am, label=:none, color=:red, subplot=2)\n",
    "scatter!(kgrid, B20fid./B20ep, label=:none, color=:blue, subplot=2)\n",
    "scatter!(kgrid, B20fid./B20em, label=:none, color=:blue, subplot=2)\n",
    "αV = 1.01; ϵ=1.00\n",
    "δαV = 1 - αV; δϵ = 1 - ϵ\n",
    "B20th = B20fid \n",
    "B20th += dB20k1*δαV + dB20k2*δαV + dB20k3*δαV\n",
    "B20th += dB20k1*δϵ/sqrt(5) + dB20k2*δϵ/8/sqrt(5) + dB20k3*δϵ/8/sqrt(5) \n",
    "B20th += B20fid*δϵ*3/sqrt(5)\n",
    "plot!(kgrid, B20fid./B20th, label=:none, color=:red, subplot=2)\n",
    "αV = 0.99; ϵ=1.00\n",
    "δαV = 1 - αV; δϵ = 1 - ϵ\n",
    "B20th = B20fid \n",
    "B20th += dB20k1*δαV + dB20k2*δαV + dB20k3*δαV \n",
    "B20th += dB00k1*δϵ/sqrt(5) + dB00k2*δϵ/8/sqrt(5) + dB00k3*δϵ/8/sqrt(5) \n",
    "B20th += dB20k1*δϵ*2/7 + dB20k2*δϵ/28 + dB20k3*δϵ/28\n",
    "plot!(kgrid, B20fid./B20th, label=:none, color=:red, subplot=2)\n",
    "αV = 1.00; ϵ=1.01\n",
    "δαV = 1 - αV; δϵ = 1 - ϵ\n",
    "B20th = B20fid \n",
    "B20th += dB20k1*δαV + dB20k2*δαV + dB20k3*δαV \n",
    "B20th += dB00k1*δϵ/sqrt(5) + dB00k2*δϵ/8/sqrt(5) + dB00k3*δϵ/8/sqrt(5) \n",
    "B20th += dB20k1*δϵ*2/7 + dB20k2*δϵ/28 + dB20k3*δϵ/28\n",
    "B20th += dB40k1*δϵ*6/7/sqrt(5) + dB40k2*δϵ*3/28/sqrt(5) + dB40k3*δϵ*3/28/sqrt(5)\n",
    "B20th += B20fid*δϵ*3/7 + B40fid*δϵ*6/7/sqrt(5)\n",
    "plot!(kgrid, B20fid./B20th, label=:none, color=:blue, subplot=2)\n",
    "αV = 1.00; ϵ=0.99\n",
    "δαV = 1 - αV; δϵ = 1 - ϵ\n",
    "B20th = B20fid \n",
    "B20th += dB20k1*δαV + dB20k2*δαV + dB20k3*δαV \n",
    "B20th += dB00k1*δϵ/sqrt(5) + dB00k2*δϵ/8/sqrt(5) + dB00k3*δϵ/8/sqrt(5) \n",
    "B20th += dB20k1*δϵ*2/7 + dB20k2*δϵ/28 + dB20k3*δϵ/28\n",
    "B20th += dB40k1*δϵ*6/7/sqrt(5) + dB40k2*δϵ*3/28/sqrt(5) + dB40k3*δϵ*3/28/sqrt(5)\n",
    "B20th += B20fid*δϵ*3/7 + B40fid*δϵ*6/7/sqrt(5)\n",
    "plot!(kgrid, B20fid./B20th, label=:none, color=:blue, subplot=2)\n",
    "scatter!(kgrid, B40fid./B40ap, label=:none, color=:red, subplot=3)\n",
    "scatter!(kgrid, B40fid./B40am, label=:none, color=:red, subplot=3)\n",
    "scatter!(kgrid, B40fid./B40ep, label=:none, color=:blue, subplot=3)\n",
    "scatter!(kgrid, B40fid./B40em, label=:none, color=:blue, subplot=3)"
   ]
  },
  {
   "cell_type": "code",
   "execution_count": 136,
   "metadata": {},
   "outputs": [
    {
     "ename": "ErrorException",
     "evalue": "syntax: invalid assignment location \"1.01\" around d:\\home\\Khomeriki\\BAOplots.ipynb:1",
     "output_type": "error",
     "traceback": [
      "syntax: invalid assignment location \"1.01\" around d:\\home\\Khomeriki\\BAOplots.ipynb:1\n",
      "\n",
      "Stacktrace:\n",
      " [1] top-level scope\n",
      "   @ d:\\home\\Khomeriki\\BAOplots.ipynb:1"
     ]
    }
   ],
   "source": [
    "αV = 1.01, ϵ=1.00\n",
    "δαV = 1 - αV, δϵ = 1 - ϵ\n",
    "B00th = B00fid .+ dB00k1*(1.5*δαV +0.75*δϵ*0.33) + dB00k2*(1.5*(-0.36)*δαV + 0.75*δϵ*1.04) + dB00k3*((1.5)*(-0.65)*δαV + 0.75*δϵ*(-0.05))"
   ]
  },
  {
   "cell_type": "code",
   "execution_count": 137,
   "metadata": {},
   "outputs": [
    {
     "ename": "UndefVarError",
     "evalue": "UndefVarError: B00fid not defined",
     "output_type": "error",
     "traceback": [
      "UndefVarError: B00fid not defined\n",
      "\n",
      "Stacktrace:\n",
      " [1] top-level scope\n",
      "   @ d:\\home\\Khomeriki\\BAOplots.ipynb:1"
     ]
    }
   ],
   "source": [
    "plot(B00fid)\n",
    "plot!(B20fid)\n",
    "plot!(B40fid)"
   ]
  },
  {
   "cell_type": "code",
   "execution_count": 138,
   "metadata": {},
   "outputs": [],
   "source": []
  }
 ],
 "metadata": {
  "kernelspec": {
   "display_name": "Julia 1.6.7",
   "language": "julia",
   "name": "julia-1.6"
  },
  "language_info": {
   "file_extension": ".jl",
   "mimetype": "application/julia",
   "name": "julia",
   "version": "1.6.7"
  },
  "orig_nbformat": 4
 },
 "nbformat": 4,
 "nbformat_minor": 2
}
