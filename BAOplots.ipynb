{
 "cells": [
  {
   "cell_type": "code",
   "execution_count": 30,
   "metadata": {},
   "outputs": [],
   "source": [
    "using Interpolations\n",
    "using DelimitedFiles\n",
    "using Cubature\n",
    "using Plots\n",
    "using LaTeXStrings"
   ]
  },
  {
   "cell_type": "code",
   "execution_count": 31,
   "metadata": {},
   "outputs": [],
   "source": [
    "kpk = readdlm(\"test_pk.txt\", comments=true)\n",
    "pk_itp = interpolate((kpk[:,1],), kpk[:,2], Gridded(Linear()));"
   ]
  },
  {
   "cell_type": "code",
   "execution_count": 32,
   "metadata": {},
   "outputs": [
    {
     "data": {
      "text/plain": [
       "#51 (generic function with 1 method)"
      ]
     },
     "execution_count": 32,
     "metadata": {},
     "output_type": "execute_result"
    }
   ],
   "source": [
    "b = 2\n",
    "f = 0.7\n",
    "pk2d = (μ, k) -> (b + μ^2*f)^2*pk_itp(k)"
   ]
  },
  {
   "cell_type": "code",
   "execution_count": 33,
   "metadata": {},
   "outputs": [
    {
     "data": {
      "text/plain": [
       "#55 (generic function with 1 method)"
      ]
     },
     "execution_count": 33,
     "metadata": {},
     "output_type": "execute_result"
    }
   ],
   "source": [
    "kp = (k, μ, αV, ϵ) -> k*sqrt(αV^2*ϵ^2*μ^2 + αV^2/ϵ*(1 - μ^2))\n",
    "μp = (k, μ, αV, ϵ) -> μ*αV*ϵ/sqrt(αV^2*ϵ^2*μ^2 + αV^2/ϵ*(1 - μ^2))"
   ]
  },
  {
   "cell_type": "code",
   "execution_count": 34,
   "metadata": {},
   "outputs": [
    {
     "data": {
      "text/plain": [
       "#61 (generic function with 1 method)"
      ]
     },
     "execution_count": 34,
     "metadata": {},
     "output_type": "execute_result"
    }
   ],
   "source": [
    "L0 = x -> 1\n",
    "L2 = x -> (3*x^2 - 1)/2\n",
    "L4 = x -> (35*x^4 - 30*x^2 + 3)/8"
   ]
  },
  {
   "cell_type": "code",
   "execution_count": 35,
   "metadata": {},
   "outputs": [
    {
     "data": {
      "text/plain": [
       "pkprime (generic function with 1 method)"
      ]
     },
     "execution_count": 35,
     "metadata": {},
     "output_type": "execute_result"
    }
   ],
   "source": [
    "function pkprime(kgrid, weight, αV, ϵ)\n",
    "    Nk = size(kgrid)[1]\n",
    "    pp = zeros(Nk)\n",
    "    for i in 1:Nk\n",
    "        pp[i] = hquadrature(x -> pk2d(μp(kgrid[i], x, αV, ϵ), kp(kgrid[i], x, αV, ϵ))*weight(x), -1, 1, reltol=1e-4)[1]\n",
    "    end\n",
    "    return pp\n",
    "end"
   ]
  },
  {
   "cell_type": "code",
   "execution_count": 36,
   "metadata": {},
   "outputs": [],
   "source": [
    "function pell(kgrid, αV, ϵ)\n",
    "    p0 = pkprime(kgrid, L0, αV, ϵ)*1/2\n",
    "    p2 = pkprime(kgrid, L2, αV, ϵ)*5/2\n",
    "    p4 = pkprime(kgrid, L4, αV, ϵ)*9/2\n",
    "    return p0, p2, p4\n",
    "end\n",
    "kgrid = collect(range(0.00, 0.20, step=0.01))\n",
    "αV = 1.00\n",
    "ϵ = 1.00\n",
    "p0ref, p2ref, p4ref = pell(kgrid, αV, ϵ)\n",
    "p0refp, p2refp, p4refp = pell(kgrid .+ 0.001, αV, ϵ)\n",
    "dp0 = (p0refp .- p0ref)/0.001.*kgrid\n",
    "dp2 = (p2refp .- p2ref)/0.001.*kgrid\n",
    "dp4 = (p4refp .- p4ref)/0.001.*kgrid;"
   ]
  },
  {
   "cell_type": "code",
   "execution_count": 37,
   "metadata": {},
   "outputs": [
    {
     "name": "stderr",
     "output_type": "stream",
     "text": [
      "latex: major issue: So far, no MiKTeX administrator has checked for updates.\n",
      "latex: major issue: So far, no MiKTeX administrator has checked for updates.\n",
      "latex: major issue: So far, no MiKTeX administrator has checked for updates.\n",
      "latex: major issue: So far, no MiKTeX administrator has checked for updates.\n",
      "latex: major issue: So far, no MiKTeX administrator has checked for updates.\n",
      "latex: major issue: So far, no MiKTeX administrator has checked for updates.\n",
      "latex: major issue: So far, no MiKTeX administrator has checked for updates.\n",
      "latex: major issue: So far, no MiKTeX administrator has checked for updates.\n",
      "latex: failed to create a dvi file\n",
      "latex: failed to create a dvi file\n",
      "latex: failed to create a dvi file\n",
      "latex: failed to create a dvi file\n",
      "latex: failed to create a dvi file\n",
      "latex: failed to create a dvi file\n",
      "latex: failed to create a dvi file\n",
      "latex: failed to create a dvi file\n"
     ]
    }
   ],
   "source": [
    "function pellth(p0ref, p2ref, p4ref, dp0, dp2, dp4, α, ϵ)\n",
    "    δα = αV - 1\n",
    "    δϵ = ϵ - 1\n",
    "    p0th = p0ref + dp0*δα + (1/5)*dp2*δϵ + (3/5)*p2ref*δϵ\n",
    "    p2th = p2ref + dp2*δα + (1)*dp0*δϵ + (2/7)*dp2*δϵ + (2/7)*dp4*δϵ + (3/7)*p2ref*δϵ + (10/7)*p4ref*δϵ\n",
    "    p4th = p4ref + dp4*δα + (18/35)*dp2*δϵ + (20/77)*dp4*δϵ + (-36/35)*p2ref*δϵ + (30/77)*p4ref*δϵ\n",
    "    return p0th, p2th, p4th\n",
    "end\n",
    "αV = 1.01\n",
    "ϵ = 1.00\n",
    "p0, p2, p4 = pell(kgrid, αV, ϵ)\n",
    "p0th, p2th, p4th = pellth(p0ref, p2ref, p4ref, dp0, dp2, dp4, αV, ϵ)\n",
    "plot(kgrid, p0./p0ref, color=:red, label=L\"\\alpha_V \\pm 1\\%\", layout=(3,1), size=(650, 800), dpi=300)\n",
    "scatter!(kgrid, p0th./p0ref, color=:red, label=:none, subplot=1, xaxis=:false)\n",
    "plot!(kgrid, p2./p2ref, color=:red, label=L\"\\alpha_V \\pm 1\\%\", subplot=2)\n",
    "scatter!(kgrid, p2th./p2ref, color=:red, label=:none, subplot=2, xaxis=:false)\n",
    "plot!(kgrid, p4./p4ref, color=:red, label=L\"\\alpha_V \\pm 1\\%\", subplot=3)\n",
    "scatter!(kgrid, p4th./p4ref, color=:red, label=:none, subplot=3)\n",
    "αV = 0.99\n",
    "ϵ = 1.00\n",
    "p0, p2, p4 = pell(kgrid, αV, ϵ)\n",
    "p0th, p2th, p4th = pellth(p0ref, p2ref, p4ref, dp0, dp2, dp4, αV, ϵ)\n",
    "plot!(kgrid, p0./p0ref, color=:red, label=:none, subplot=1)\n",
    "scatter!(kgrid, p0th./p0ref, color=:red, label=:none, subplot=1)\n",
    "plot!(kgrid, p2./p2ref, color=:red, label=:none,subplot=2)\n",
    "scatter!(kgrid, p2th./p2ref, color=:red, label=:none,subplot=2)\n",
    "plot!(kgrid, p4./p4ref, color=:red, label=:none,subplot=3)\n",
    "scatter!(kgrid, p4th./p4ref, color=:red, label=:none,subplot=3)\n",
    "αV = 1.00\n",
    "ϵ = 1.01\n",
    "p0, p2, p4 = pell(kgrid, αV, ϵ)\n",
    "p0th, p2th, p4th = pellth(p0ref, p2ref, p4ref, dp0, dp2, dp4, αV, ϵ)\n",
    "plot!(kgrid, p0./p0ref, color=:blue, label=L\"\\epsilon \\pm 1\\%\", subplot=1)\n",
    "scatter!(kgrid, p0th./p0ref, color=:blue, label=:none, subplot=1)\n",
    "plot!(kgrid, p2./p2ref, color=:blue, label=L\"\\epsilon \\pm 1\\%\", subplot=2)\n",
    "scatter!(kgrid, p2th./p2ref, color=:blue, label=:none, subplot=2)\n",
    "plot!(kgrid, p4./p4ref, color=:blue, label=L\"\\epsilon \\pm 1\\%\", subplot=3)\n",
    "scatter!(kgrid, p4th./p4ref, color=:blue, label=:none, subplot=3)\n",
    "αV = 1.00\n",
    "ϵ = 0.99\n",
    "p0, p2, p4 = pell(kgrid, αV, ϵ)\n",
    "p0th, p2th, p4th = pellth(p0ref, p2ref, p4ref, dp0, dp2, dp4, αV, ϵ)\n",
    "plot!(kgrid, p0./p0ref, color=:blue, label=:none, legend=:topleft, subplot=1)\n",
    "scatter!(kgrid, p0th./p0ref, color=:blue, label=:none, subplot=1)\n",
    "plot!(kgrid, p2./p2ref, color=:blue, label=:none, legend=:topleft, subplot=2)\n",
    "scatter!(kgrid, p2th./p2ref, color=:blue, label=:none, subplot=2)\n",
    "plot!(kgrid, p4./p4ref, color=:blue, label=:none, legend=:topleft, subplot=3)\n",
    "scatter!(kgrid, p4th./p4ref, color=:blue, label=:none, subplot=3)\n",
    "plot!(xlabel=\"wavenumber in Mpc/h\", ylabel=L\"P_4/P^\\mathrm{ref}_4\", subplot=3)\n",
    "plot!(ylabel=L\"P_2/P^\\mathrm{ref}_2\", subplot=2)\n",
    "plot!(ylabel=L\"P_0/P^\\mathrm{ref}_0\", subplot=1)\n",
    "plot!(xrange=(0,0.20), yrange=(0.97,1.03),grid=true,fontfamily=\"Arial\",minorticks=:true,minorgrid=true, subplot=1)\n",
    "plot!(xrange=(0,0.20), yrange=(0.94,1.06), yticks=([0.94, 0.96, 0.98, 1.00, 1.02, 1.04, 1.06]), grid=true,fontfamily=\"Arial\",minorticks=:true,minorgrid=true, subplot=2)\n",
    "plot!(xrange=(0,0.20), yrange=(0.5,1.5),grid=true,fontfamily=\"Arial\",minorticks=:true,minorgrid=true, subplot=3)\n",
    "annotate!(0.04, 0.975, \"Monopole\", fontfamily=\"Arial\", subplot=1)\n",
    "annotate!(0.04, 0.95, \"Quadrupole\", fontfamily=\"Arial\", subplot=2)\n",
    "annotate!(0.04, 0.60, \"Hexadecapole\", fontfamily=\"Arial\", subplot=3)\n",
    "savefig(\"Pap.png\")\n"
   ]
  },
  {
   "cell_type": "code",
   "execution_count": 38,
   "metadata": {},
   "outputs": [
    {
     "data": {
      "text/plain": [
       "bk5d (generic function with 1 method)"
      ]
     },
     "execution_count": 38,
     "metadata": {},
     "output_type": "execute_result"
    }
   ],
   "source": [
    "function solve_triangular_geometry(μ1, ϕ, k1, k2, k3)\n",
    "    μ12 = (k1^2 + k2^2 - k3^2)/(2*k1*k2)\n",
    "    μ31 = (k3^2 + k1^2 - k2^2)/(2*k3*k1)\n",
    "    μ23 = (k2^2 + k3^2 - k1^2)/(2*k2*k3)\n",
    "    #println(μ12, \" \", μ1)\n",
    "    μ3 = - μ1*μ12 - sqrt(1 - μ1^2)*sqrt(1 - μ12^2)*cos(ϕ)\n",
    "    μ2 = -(μ1*k1 + μ3*k3)/k2\n",
    "    return μ2, μ3, μ12, μ23, μ31\n",
    "end\n",
    "\n",
    "function tree_level_bk(μ1, ϕ, k1, k2, k3, b1, b2, f, pk)\n",
    "\n",
    "    pk1 = pk(k1)\n",
    "    pk2 = pk(k2)\n",
    "    pk3 = pk(k3)\n",
    "\n",
    "    μ2, μ3, μ12, μ23, μ31 = solve_triangular_geometry(μ1, ϕ, k1, k2, k3)\n",
    " \n",
    "    Z1k1 = b1 + f*μ1^2\n",
    "    Z1k2 = b1 + f*μ2^2\n",
    "    Z1k3 = b1 + f*μ3^2\n",
    " \n",
    "    F12 = 5/7 + μ12/2*(k1/k2 + k2/k1) + 2/7*μ12^2\n",
    "    F23 = 5/7 + μ23/2*(k2/k3 + k3/k2) + 2/7*μ23^2\n",
    "    F31 = 5/7 + μ31/2*(k3/k1 + k1/k3) + 2/7*μ31^2\n",
    " \n",
    "    G12 = 3/7 + μ12/2*(k1/k2 + k2/k1) + 4/7*μ12^2\n",
    "    G23 = 3/7 + μ23/2*(k2/k3 + k3/k2) + 4/7*μ23^2\n",
    "    G31 = 3/7 + μ31/2*(k3/k1 + k1/k3) + 4/7*μ31^2\n",
    " \n",
    "    Z2k12 = b2/2. + b1*F12 + f*μ3^2*G12\n",
    "    Z2k12 -= f*μ3*k3/2*(μ1/k1*Z1k2 + μ2/k2*Z1k1)\n",
    "    Z2k23 = b2/2. + b1*F23 + f*μ1^2*G23\n",
    "    Z2k23 -= f*μ1*k1/2*(μ2/k2*Z1k3 + μ3/k3*Z1k2)\n",
    "    Z2k31 = b2/2. + b1*F31 + f*μ2^2*G31\n",
    "    Z2k31 -= f*μ2*k2/2*(μ3/k3*Z1k1 + μ1/k1*Z1k3)\n",
    "\n",
    "    Bi = Z2k12*Z1k1*Z1k2*pk1*pk2\n",
    "    Bi += Z2k23*Z1k2*Z1k3*pk2*pk3\n",
    "    Bi += Z2k31*Z1k3*Z1k1*pk3*pk1\n",
    " \n",
    "    return 2*Bi \n",
    "end\n",
    "\n",
    "function bk5d(μ, ϕ, k1, k2, k3)\n",
    "    return tree_level_bk(μ, ϕ, k1, k2, k3, 2, 0.6, 0.7, pk_itp)\n",
    "end"
   ]
  },
  {
   "cell_type": "code",
   "execution_count": 39,
   "metadata": {},
   "outputs": [
    {
     "ename": "LoadError",
     "evalue": "\u001b[91msyntax: \"\\\" is not a unary operator\u001b[39m",
     "output_type": "error",
     "traceback": [
      "\u001b[91msyntax: \"\\\" is not a unary operator\u001b[39m",
      "",
      "Stacktrace:",
      " [1] top-level scope at In[39]:3",
      " [2] include_string(::Function, ::Module, ::String, ::String) at .\\loading.jl:1091"
     ]
    }
   ],
   "source": [
    "kp = (k, μ, αV, ϵ) -> k*sqrt(αV^2*ϵ^2*μ^2 + αV^2/ϵ*(1 - μ^2))\n",
    "μp = (k, μ, αV, ϵ) -> μ*αV*ϵ/sqrt(αV^2*ϵ^2*μ^2 + αV^2/ϵ*(1 - μ^2))\n",
    "k2p = (k, \\mu   , \\alpha V, \\epsilon) -> \\nmu*\\alphaV*\\epsilon/sqrt(\\alphaV^2*\\epslion ^2*)"
   ]
  },
  {
   "cell_type": "code",
   "execution_count": null,
   "metadata": {},
   "outputs": [
    {
     "data": {
      "text/plain": [
       "b40equi (generic function with 1 method)"
      ]
     },
     "execution_count": 11,
     "metadata": {},
     "output_type": "execute_result"
    }
   ],
   "source": [
    "function b00equi(kgrid, αV, ϵ)\n",
    "    Nk = size(kgrid)[1]\n",
    "    pp = zeros(Nk)\n",
    "    for i in 2:Nk\n",
    "        #println(kgrid[i])\n",
    "        pp[i] = hcubature(x -> bk5d(μp(kgrid[i], cos(x[1]), αV, ϵ), x[2], kp(kgrid[i], cos(x[1]), αV, ϵ), kp(kgrid[i], cos(x[1]), αV, ϵ), kp(kgrid[i], cos(x[1]), αV, ϵ))/2/sqrt(π)*sin(x[1]), [0, 0], [π, 2*π], reltol=1e-4)[1]\n",
    "    end\n",
    "    return pp\n",
    "end\n",
    "function b20equi(kgrid, αV, ϵ)\n",
    "    Nk = size(kgrid)[1]\n",
    "    pp = zeros(Nk)\n",
    "    for i in 2:Nk\n",
    "        #println(kgrid[i])\n",
    "        pp[i] = hcubature(x -> bk5d(μp(kgrid[i], cos(x[1]), αV, ϵ), x[2], kp(kgrid[i], cos(x[1]), αV, ϵ), kp(kgrid[i], cos(x[1]), αV, ϵ), kp(kgrid[i], cos(x[1]), αV, ϵ))/2/sqrt(π)*sin(x[1]), [0, 0], [π, 2*π], reltol=1e-4)[1]\n",
    "    end\n",
    "    return pp\n",
    "end\n",
    "function b40equi(kgrid, αV, ϵ)\n",
    "    Nk = size(kgrid)[1]\n",
    "    pp = zeros(Nk)\n",
    "    for i in 2:Nk\n",
    "        #println(kgrid[i])\n",
    "        pp[i] = hcubature(x -> bk5d(μp(kgrid[i], cos(x[1]), αV, ϵ), x[2], kp(kgrid[i], cos(x[1]), αV, ϵ), kp(kgrid[i], cos(x[1]), αV, ϵ), kp(kgrid[i], cos(x[1]), αV, ϵ))/2/sqrt(π)*sin(x[1]), [0, 0], [π, 2*π], reltol=1e-4)[1]\n",
    "    end\n",
    "    return pp\n",
    "end"
   ]
  },
  {
   "cell_type": "code",
   "execution_count": null,
   "metadata": {},
   "outputs": [],
   "source": [
    "B00fid = b00equi(kgrid, 1.00, 1.00);\n",
    "B00ap = b00equi(kgrid, 1.01, 1.00);\n",
    "B00am = b00equi(kgrid, 0.99, 1.00);\n",
    "B00ep = b00equi(kgrid, 1.00, 1.01);\n",
    "B00em = b00equi(kgrid, 1.00, 0.99);\n",
    "B00ih = b00equi(kgrid, 1.00, 1.05);\n"
   ]
  },
  {
   "cell_type": "code",
   "execution_count": null,
   "metadata": {},
   "outputs": [
    {
     "data": {
      "image/svg+xml": "<?xml version=\"1.0\" encoding=\"utf-8\"?>\n<svg xmlns=\"http://www.w3.org/2000/svg\" xmlns:xlink=\"http://www.w3.org/1999/xlink\" width=\"600\" height=\"400\" viewBox=\"0 0 2400 1600\">\n<defs>\n  <clipPath id=\"clip890\">\n    <rect x=\"0\" y=\"0\" width=\"2400\" height=\"1600\"/>\n  </clipPath>\n</defs>\n<path clip-path=\"url(#clip890)\" d=\"\nM0 1600 L2400 1600 L2400 0 L0 0  Z\n  \" fill=\"#ffffff\" fill-rule=\"evenodd\" fill-opacity=\"1\"/>\n<defs>\n  <clipPath id=\"clip891\">\n    <rect x=\"480\" y=\"0\" width=\"1681\" height=\"1600\"/>\n  </clipPath>\n</defs>\n<path clip-path=\"url(#clip890)\" d=\"\nM174.839 1486.45 L2352.76 1486.45 L2352.76 47.2441 L174.839 47.2441  Z\n  \" fill=\"#ffffff\" fill-rule=\"evenodd\" fill-opacity=\"1\"/>\n<defs>\n  <clipPath id=\"clip892\">\n    <rect x=\"174\" y=\"47\" width=\"2179\" height=\"1440\"/>\n  </clipPath>\n</defs>\n<polyline clip-path=\"url(#clip892)\" style=\"stroke:#000000; stroke-width:2; stroke-opacity:0.1; fill:none\" points=\"\n  236.478,1486.45 236.478,47.2441 \n  \"/>\n<polyline clip-path=\"url(#clip892)\" style=\"stroke:#000000; stroke-width:2; stroke-opacity:0.1; fill:none\" points=\"\n  750.138,1486.45 750.138,47.2441 \n  \"/>\n<polyline clip-path=\"url(#clip892)\" style=\"stroke:#000000; stroke-width:2; stroke-opacity:0.1; fill:none\" points=\"\n  1263.8,1486.45 1263.8,47.2441 \n  \"/>\n<polyline clip-path=\"url(#clip892)\" style=\"stroke:#000000; stroke-width:2; stroke-opacity:0.1; fill:none\" points=\"\n  1777.46,1486.45 1777.46,47.2441 \n  \"/>\n<polyline clip-path=\"url(#clip892)\" style=\"stroke:#000000; stroke-width:2; stroke-opacity:0.1; fill:none\" points=\"\n  2291.12,1486.45 2291.12,47.2441 \n  \"/>\n<polyline clip-path=\"url(#clip890)\" style=\"stroke:#000000; stroke-width:4; stroke-opacity:1; fill:none\" points=\"\n  174.839,1486.45 2352.76,1486.45 \n  \"/>\n<polyline clip-path=\"url(#clip890)\" style=\"stroke:#000000; stroke-width:4; stroke-opacity:1; fill:none\" points=\"\n  236.478,1486.45 236.478,1469.18 \n  \"/>\n<polyline clip-path=\"url(#clip890)\" style=\"stroke:#000000; stroke-width:4; stroke-opacity:1; fill:none\" points=\"\n  750.138,1486.45 750.138,1469.18 \n  \"/>\n<polyline clip-path=\"url(#clip890)\" style=\"stroke:#000000; stroke-width:4; stroke-opacity:1; fill:none\" points=\"\n  1263.8,1486.45 1263.8,1469.18 \n  \"/>\n<polyline clip-path=\"url(#clip890)\" style=\"stroke:#000000; stroke-width:4; stroke-opacity:1; fill:none\" points=\"\n  1777.46,1486.45 1777.46,1469.18 \n  \"/>\n<polyline clip-path=\"url(#clip890)\" style=\"stroke:#000000; stroke-width:4; stroke-opacity:1; fill:none\" points=\"\n  2291.12,1486.45 2291.12,1469.18 \n  \"/>\n<path clip-path=\"url(#clip890)\" d=\"M 0 0 M204.487 1515.64 Q200.876 1515.64 199.048 1519.2 Q197.242 1522.75 197.242 1529.87 Q197.242 1536.98 199.048 1540.55 Q200.876 1544.09 204.487 1544.09 Q208.122 1544.09 209.927 1540.55 Q211.756 1536.98 211.756 1529.87 Q211.756 1522.75 209.927 1519.2 Q208.122 1515.64 204.487 1515.64 M204.487 1511.93 Q210.298 1511.93 213.353 1516.54 Q216.432 1521.12 216.432 1529.87 Q216.432 1538.6 213.353 1543.21 Q210.298 1547.79 204.487 1547.79 Q198.677 1547.79 195.599 1543.21 Q192.543 1538.6 192.543 1529.87 Q192.543 1521.12 195.599 1516.54 Q198.677 1511.93 204.487 1511.93 Z\" fill=\"#000000\" fill-rule=\"evenodd\" fill-opacity=\"1\" /><path clip-path=\"url(#clip890)\" d=\"M 0 0 M221.501 1541.24 L226.386 1541.24 L226.386 1547.12 L221.501 1547.12 L221.501 1541.24 Z\" fill=\"#000000\" fill-rule=\"evenodd\" fill-opacity=\"1\" /><path clip-path=\"url(#clip890)\" d=\"M 0 0 M241.455 1515.64 Q237.844 1515.64 236.015 1519.2 Q234.21 1522.75 234.21 1529.87 Q234.21 1536.98 236.015 1540.55 Q237.844 1544.09 241.455 1544.09 Q245.089 1544.09 246.895 1540.55 Q248.723 1536.98 248.723 1529.87 Q248.723 1522.75 246.895 1519.2 Q245.089 1515.64 241.455 1515.64 M241.455 1511.93 Q247.265 1511.93 250.321 1516.54 Q253.399 1521.12 253.399 1529.87 Q253.399 1538.6 250.321 1543.21 Q247.265 1547.79 241.455 1547.79 Q235.645 1547.79 232.566 1543.21 Q229.51 1538.6 229.51 1529.87 Q229.51 1521.12 232.566 1516.54 Q235.645 1511.93 241.455 1511.93 Z\" fill=\"#000000\" fill-rule=\"evenodd\" fill-opacity=\"1\" /><path clip-path=\"url(#clip890)\" d=\"M 0 0 M268.469 1515.64 Q264.858 1515.64 263.029 1519.2 Q261.223 1522.75 261.223 1529.87 Q261.223 1536.98 263.029 1540.55 Q264.858 1544.09 268.469 1544.09 Q272.103 1544.09 273.908 1540.55 Q275.737 1536.98 275.737 1529.87 Q275.737 1522.75 273.908 1519.2 Q272.103 1515.64 268.469 1515.64 M268.469 1511.93 Q274.279 1511.93 277.334 1516.54 Q280.413 1521.12 280.413 1529.87 Q280.413 1538.6 277.334 1543.21 Q274.279 1547.79 268.469 1547.79 Q262.658 1547.79 259.58 1543.21 Q256.524 1538.6 256.524 1529.87 Q256.524 1521.12 259.58 1516.54 Q262.658 1511.93 268.469 1511.93 Z\" fill=\"#000000\" fill-rule=\"evenodd\" fill-opacity=\"1\" /><path clip-path=\"url(#clip890)\" d=\"M 0 0 M718.645 1515.64 Q715.034 1515.64 713.205 1519.2 Q711.399 1522.75 711.399 1529.87 Q711.399 1536.98 713.205 1540.55 Q715.034 1544.09 718.645 1544.09 Q722.279 1544.09 724.085 1540.55 Q725.913 1536.98 725.913 1529.87 Q725.913 1522.75 724.085 1519.2 Q722.279 1515.64 718.645 1515.64 M718.645 1511.93 Q724.455 1511.93 727.511 1516.54 Q730.589 1521.12 730.589 1529.87 Q730.589 1538.6 727.511 1543.21 Q724.455 1547.79 718.645 1547.79 Q712.835 1547.79 709.756 1543.21 Q706.7 1538.6 706.7 1529.87 Q706.7 1521.12 709.756 1516.54 Q712.835 1511.93 718.645 1511.93 Z\" fill=\"#000000\" fill-rule=\"evenodd\" fill-opacity=\"1\" /><path clip-path=\"url(#clip890)\" d=\"M 0 0 M735.659 1541.24 L740.543 1541.24 L740.543 1547.12 L735.659 1547.12 L735.659 1541.24 Z\" fill=\"#000000\" fill-rule=\"evenodd\" fill-opacity=\"1\" /><path clip-path=\"url(#clip890)\" d=\"M 0 0 M755.612 1515.64 Q752.001 1515.64 750.172 1519.2 Q748.367 1522.75 748.367 1529.87 Q748.367 1536.98 750.172 1540.55 Q752.001 1544.09 755.612 1544.09 Q759.246 1544.09 761.052 1540.55 Q762.881 1536.98 762.881 1529.87 Q762.881 1522.75 761.052 1519.2 Q759.246 1515.64 755.612 1515.64 M755.612 1511.93 Q761.422 1511.93 764.478 1516.54 Q767.557 1521.12 767.557 1529.87 Q767.557 1538.6 764.478 1543.21 Q761.422 1547.79 755.612 1547.79 Q749.802 1547.79 746.723 1543.21 Q743.668 1538.6 743.668 1529.87 Q743.668 1521.12 746.723 1516.54 Q749.802 1511.93 755.612 1511.93 Z\" fill=\"#000000\" fill-rule=\"evenodd\" fill-opacity=\"1\" /><path clip-path=\"url(#clip890)\" d=\"M 0 0 M772.672 1512.56 L791.029 1512.56 L791.029 1516.5 L776.955 1516.5 L776.955 1524.97 Q777.973 1524.62 778.992 1524.46 Q780.01 1524.27 781.029 1524.27 Q786.816 1524.27 790.195 1527.44 Q793.575 1530.62 793.575 1536.03 Q793.575 1541.61 790.103 1544.71 Q786.631 1547.79 780.311 1547.79 Q778.135 1547.79 775.867 1547.42 Q773.621 1547.05 771.214 1546.31 L771.214 1541.61 Q773.297 1542.74 775.52 1543.3 Q777.742 1543.86 780.219 1543.86 Q784.223 1543.86 786.561 1541.75 Q788.899 1539.64 788.899 1536.03 Q788.899 1532.42 786.561 1530.31 Q784.223 1528.21 780.219 1528.21 Q778.344 1528.21 776.469 1528.62 Q774.617 1529.04 772.672 1529.92 L772.672 1512.56 Z\" fill=\"#000000\" fill-rule=\"evenodd\" fill-opacity=\"1\" /><path clip-path=\"url(#clip890)\" d=\"M 0 0 M1232.42 1515.64 Q1228.81 1515.64 1226.98 1519.2 Q1225.17 1522.75 1225.17 1529.87 Q1225.17 1536.98 1226.98 1540.55 Q1228.81 1544.09 1232.42 1544.09 Q1236.05 1544.09 1237.86 1540.55 Q1239.69 1536.98 1239.69 1529.87 Q1239.69 1522.75 1237.86 1519.2 Q1236.05 1515.64 1232.42 1515.64 M1232.42 1511.93 Q1238.23 1511.93 1241.29 1516.54 Q1244.36 1521.12 1244.36 1529.87 Q1244.36 1538.6 1241.29 1543.21 Q1238.23 1547.79 1232.42 1547.79 Q1226.61 1547.79 1223.53 1543.21 Q1220.48 1538.6 1220.48 1529.87 Q1220.48 1521.12 1223.53 1516.54 Q1226.61 1511.93 1232.42 1511.93 Z\" fill=\"#000000\" fill-rule=\"evenodd\" fill-opacity=\"1\" /><path clip-path=\"url(#clip890)\" d=\"M 0 0 M1249.43 1541.24 L1254.32 1541.24 L1254.32 1547.12 L1249.43 1547.12 L1249.43 1541.24 Z\" fill=\"#000000\" fill-rule=\"evenodd\" fill-opacity=\"1\" /><path clip-path=\"url(#clip890)\" d=\"M 0 0 M1260.2 1543.18 L1267.84 1543.18 L1267.84 1516.82 L1259.53 1518.49 L1259.53 1514.23 L1267.79 1512.56 L1272.47 1512.56 L1272.47 1543.18 L1280.11 1543.18 L1280.11 1547.12 L1260.2 1547.12 L1260.2 1543.18 Z\" fill=\"#000000\" fill-rule=\"evenodd\" fill-opacity=\"1\" /><path clip-path=\"url(#clip890)\" d=\"M 0 0 M1295.17 1515.64 Q1291.56 1515.64 1289.73 1519.2 Q1287.93 1522.75 1287.93 1529.87 Q1287.93 1536.98 1289.73 1540.55 Q1291.56 1544.09 1295.17 1544.09 Q1298.81 1544.09 1300.61 1540.55 Q1302.44 1536.98 1302.44 1529.87 Q1302.44 1522.75 1300.61 1519.2 Q1298.81 1515.64 1295.17 1515.64 M1295.17 1511.93 Q1300.98 1511.93 1304.04 1516.54 Q1307.12 1521.12 1307.12 1529.87 Q1307.12 1538.6 1304.04 1543.21 Q1300.98 1547.79 1295.17 1547.79 Q1289.36 1547.79 1286.29 1543.21 Q1283.23 1538.6 1283.23 1529.87 Q1283.23 1521.12 1286.29 1516.54 Q1289.36 1511.93 1295.17 1511.93 Z\" fill=\"#000000\" fill-rule=\"evenodd\" fill-opacity=\"1\" /><path clip-path=\"url(#clip890)\" d=\"M 0 0 M1746.58 1515.64 Q1742.97 1515.64 1741.14 1519.2 Q1739.33 1522.75 1739.33 1529.87 Q1739.33 1536.98 1741.14 1540.55 Q1742.97 1544.09 1746.58 1544.09 Q1750.21 1544.09 1752.02 1540.55 Q1753.85 1536.98 1753.85 1529.87 Q1753.85 1522.75 1752.02 1519.2 Q1750.21 1515.64 1746.58 1515.64 M1746.58 1511.93 Q1752.39 1511.93 1755.44 1516.54 Q1758.52 1521.12 1758.52 1529.87 Q1758.52 1538.6 1755.44 1543.21 Q1752.39 1547.79 1746.58 1547.79 Q1740.77 1547.79 1737.69 1543.21 Q1734.63 1538.6 1734.63 1529.87 Q1734.63 1521.12 1737.69 1516.54 Q1740.77 1511.93 1746.58 1511.93 Z\" fill=\"#000000\" fill-rule=\"evenodd\" fill-opacity=\"1\" /><path clip-path=\"url(#clip890)\" d=\"M 0 0 M1763.59 1541.24 L1768.48 1541.24 L1768.48 1547.12 L1763.59 1547.12 L1763.59 1541.24 Z\" fill=\"#000000\" fill-rule=\"evenodd\" fill-opacity=\"1\" /><path clip-path=\"url(#clip890)\" d=\"M 0 0 M1774.36 1543.18 L1781.99 1543.18 L1781.99 1516.82 L1773.68 1518.49 L1773.68 1514.23 L1781.95 1512.56 L1786.62 1512.56 L1786.62 1543.18 L1794.26 1543.18 L1794.26 1547.12 L1774.36 1547.12 L1774.36 1543.18 Z\" fill=\"#000000\" fill-rule=\"evenodd\" fill-opacity=\"1\" /><path clip-path=\"url(#clip890)\" d=\"M 0 0 M1799.38 1512.56 L1817.73 1512.56 L1817.73 1516.5 L1803.66 1516.5 L1803.66 1524.97 Q1804.68 1524.62 1805.7 1524.46 Q1806.72 1524.27 1807.73 1524.27 Q1813.52 1524.27 1816.9 1527.44 Q1820.28 1530.62 1820.28 1536.03 Q1820.28 1541.61 1816.81 1544.71 Q1813.34 1547.79 1807.02 1547.79 Q1804.84 1547.79 1802.57 1547.42 Q1800.33 1547.05 1797.92 1546.31 L1797.92 1541.61 Q1800 1542.74 1802.23 1543.3 Q1804.45 1543.86 1806.92 1543.86 Q1810.93 1543.86 1813.27 1541.75 Q1815.61 1539.64 1815.61 1536.03 Q1815.61 1532.42 1813.27 1530.31 Q1810.93 1528.21 1806.92 1528.21 Q1805.05 1528.21 1803.17 1528.62 Q1801.32 1529.04 1799.38 1529.92 L1799.38 1512.56 Z\" fill=\"#000000\" fill-rule=\"evenodd\" fill-opacity=\"1\" /><path clip-path=\"url(#clip890)\" d=\"M 0 0 M2259.92 1515.64 Q2256.31 1515.64 2254.48 1519.2 Q2252.68 1522.75 2252.68 1529.87 Q2252.68 1536.98 2254.48 1540.55 Q2256.31 1544.09 2259.92 1544.09 Q2263.56 1544.09 2265.36 1540.55 Q2267.19 1536.98 2267.19 1529.87 Q2267.19 1522.75 2265.36 1519.2 Q2263.56 1515.64 2259.92 1515.64 M2259.92 1511.93 Q2265.73 1511.93 2268.79 1516.54 Q2271.87 1521.12 2271.87 1529.87 Q2271.87 1538.6 2268.79 1543.21 Q2265.73 1547.79 2259.92 1547.79 Q2254.11 1547.79 2251.04 1543.21 Q2247.98 1538.6 2247.98 1529.87 Q2247.98 1521.12 2251.04 1516.54 Q2254.11 1511.93 2259.92 1511.93 Z\" fill=\"#000000\" fill-rule=\"evenodd\" fill-opacity=\"1\" /><path clip-path=\"url(#clip890)\" d=\"M 0 0 M2276.94 1541.24 L2281.82 1541.24 L2281.82 1547.12 L2276.94 1547.12 L2276.94 1541.24 Z\" fill=\"#000000\" fill-rule=\"evenodd\" fill-opacity=\"1\" /><path clip-path=\"url(#clip890)\" d=\"M 0 0 M2290.92 1543.18 L2307.24 1543.18 L2307.24 1547.12 L2285.3 1547.12 L2285.3 1543.18 Q2287.96 1540.43 2292.54 1535.8 Q2297.15 1531.15 2298.33 1529.81 Q2300.57 1527.28 2301.45 1525.55 Q2302.36 1523.79 2302.36 1522.1 Q2302.36 1519.34 2300.41 1517.61 Q2298.49 1515.87 2295.39 1515.87 Q2293.19 1515.87 2290.73 1516.63 Q2288.3 1517.4 2285.53 1518.95 L2285.53 1514.23 Q2288.35 1513.09 2290.8 1512.51 Q2293.26 1511.93 2295.29 1511.93 Q2300.67 1511.93 2303.86 1514.62 Q2307.05 1517.31 2307.05 1521.8 Q2307.05 1523.93 2306.24 1525.85 Q2305.46 1527.74 2303.35 1530.34 Q2302.77 1531.01 2299.67 1534.23 Q2296.57 1537.42 2290.92 1543.18 Z\" fill=\"#000000\" fill-rule=\"evenodd\" fill-opacity=\"1\" /><path clip-path=\"url(#clip890)\" d=\"M 0 0 M2322.31 1515.64 Q2318.7 1515.64 2316.87 1519.2 Q2315.06 1522.75 2315.06 1529.87 Q2315.06 1536.98 2316.87 1540.55 Q2318.7 1544.09 2322.31 1544.09 Q2325.94 1544.09 2327.75 1540.55 Q2329.58 1536.98 2329.58 1529.87 Q2329.58 1522.75 2327.75 1519.2 Q2325.94 1515.64 2322.31 1515.64 M2322.31 1511.93 Q2328.12 1511.93 2331.17 1516.54 Q2334.25 1521.12 2334.25 1529.87 Q2334.25 1538.6 2331.17 1543.21 Q2328.12 1547.79 2322.31 1547.79 Q2316.5 1547.79 2313.42 1543.21 Q2310.36 1538.6 2310.36 1529.87 Q2310.36 1521.12 2313.42 1516.54 Q2316.5 1511.93 2322.31 1511.93 Z\" fill=\"#000000\" fill-rule=\"evenodd\" fill-opacity=\"1\" /><polyline clip-path=\"url(#clip892)\" style=\"stroke:#000000; stroke-width:2; stroke-opacity:0.1; fill:none\" points=\"\n  174.839,1360.24 2352.76,1360.24 \n  \"/>\n<polyline clip-path=\"url(#clip892)\" style=\"stroke:#000000; stroke-width:2; stroke-opacity:0.1; fill:none\" points=\"\n  174.839,1074.1 2352.76,1074.1 \n  \"/>\n<polyline clip-path=\"url(#clip892)\" style=\"stroke:#000000; stroke-width:2; stroke-opacity:0.1; fill:none\" points=\"\n  174.839,787.952 2352.76,787.952 \n  \"/>\n<polyline clip-path=\"url(#clip892)\" style=\"stroke:#000000; stroke-width:2; stroke-opacity:0.1; fill:none\" points=\"\n  174.839,501.807 2352.76,501.807 \n  \"/>\n<polyline clip-path=\"url(#clip892)\" style=\"stroke:#000000; stroke-width:2; stroke-opacity:0.1; fill:none\" points=\"\n  174.839,215.663 2352.76,215.663 \n  \"/>\n<polyline clip-path=\"url(#clip890)\" style=\"stroke:#000000; stroke-width:4; stroke-opacity:1; fill:none\" points=\"\n  174.839,1486.45 174.839,47.2441 \n  \"/>\n<polyline clip-path=\"url(#clip890)\" style=\"stroke:#000000; stroke-width:4; stroke-opacity:1; fill:none\" points=\"\n  174.839,1360.24 200.974,1360.24 \n  \"/>\n<polyline clip-path=\"url(#clip890)\" style=\"stroke:#000000; stroke-width:4; stroke-opacity:1; fill:none\" points=\"\n  174.839,1074.1 200.974,1074.1 \n  \"/>\n<polyline clip-path=\"url(#clip890)\" style=\"stroke:#000000; stroke-width:4; stroke-opacity:1; fill:none\" points=\"\n  174.839,787.952 200.974,787.952 \n  \"/>\n<polyline clip-path=\"url(#clip890)\" style=\"stroke:#000000; stroke-width:4; stroke-opacity:1; fill:none\" points=\"\n  174.839,501.807 200.974,501.807 \n  \"/>\n<polyline clip-path=\"url(#clip890)\" style=\"stroke:#000000; stroke-width:4; stroke-opacity:1; fill:none\" points=\"\n  174.839,215.663 200.974,215.663 \n  \"/>\n<path clip-path=\"url(#clip890)\" d=\"M 0 0 M62.9365 1346.04 Q59.3254 1346.04 57.4967 1349.61 Q55.6912 1353.15 55.6912 1360.28 Q55.6912 1367.38 57.4967 1370.95 Q59.3254 1374.49 62.9365 1374.49 Q66.5707 1374.49 68.3763 1370.95 Q70.205 1367.38 70.205 1360.28 Q70.205 1353.15 68.3763 1349.61 Q66.5707 1346.04 62.9365 1346.04 M62.9365 1342.34 Q68.7467 1342.34 71.8022 1346.94 Q74.8809 1351.53 74.8809 1360.28 Q74.8809 1369 71.8022 1373.61 Q68.7467 1378.19 62.9365 1378.19 Q57.1264 1378.19 54.0477 1373.61 Q50.9921 1369 50.9921 1360.28 Q50.9921 1351.53 54.0477 1346.94 Q57.1264 1342.34 62.9365 1342.34 Z\" fill=\"#000000\" fill-rule=\"evenodd\" fill-opacity=\"1\" /><path clip-path=\"url(#clip890)\" d=\"M 0 0 M79.9503 1371.64 L84.8345 1371.64 L84.8345 1377.52 L79.9503 1377.52 L79.9503 1371.64 Z\" fill=\"#000000\" fill-rule=\"evenodd\" fill-opacity=\"1\" /><path clip-path=\"url(#clip890)\" d=\"M 0 0 M90.0428 1376.8 L90.0428 1372.55 Q91.8021 1373.38 93.6076 1373.82 Q95.4132 1374.26 97.1493 1374.26 Q101.779 1374.26 104.209 1371.16 Q106.663 1368.03 107.01 1361.69 Q105.668 1363.68 103.608 1364.74 Q101.547 1365.81 99.0474 1365.81 Q93.8623 1365.81 90.8299 1362.68 Q87.8206 1359.54 87.8206 1354.1 Q87.8206 1348.77 90.9688 1345.55 Q94.1169 1342.34 99.3483 1342.34 Q105.344 1342.34 108.492 1346.94 Q111.663 1351.53 111.663 1360.28 Q111.663 1368.45 107.774 1373.33 Q103.909 1378.19 97.3576 1378.19 Q95.5984 1378.19 93.7928 1377.85 Q91.9873 1377.5 90.0428 1376.8 M99.3483 1362.15 Q102.496 1362.15 104.325 1360 Q106.177 1357.85 106.177 1354.1 Q106.177 1350.37 104.325 1348.22 Q102.496 1346.04 99.3483 1346.04 Q96.2002 1346.04 94.3484 1348.22 Q92.5197 1350.37 92.5197 1354.1 Q92.5197 1357.85 94.3484 1360 Q96.2002 1362.15 99.3483 1362.15 Z\" fill=\"#000000\" fill-rule=\"evenodd\" fill-opacity=\"1\" /><path clip-path=\"url(#clip890)\" d=\"M 0 0 M127.311 1358.38 Q124.163 1358.38 122.311 1360.53 Q120.482 1362.68 120.482 1366.43 Q120.482 1370.16 122.311 1372.34 Q124.163 1374.49 127.311 1374.49 Q130.459 1374.49 132.288 1372.34 Q134.14 1370.16 134.14 1366.43 Q134.14 1362.68 132.288 1360.53 Q130.459 1358.38 127.311 1358.38 M136.594 1343.73 L136.594 1347.99 Q134.834 1347.15 133.029 1346.71 Q131.246 1346.27 129.487 1346.27 Q124.857 1346.27 122.404 1349.4 Q119.973 1352.52 119.626 1358.84 Q120.992 1356.83 123.052 1355.76 Q125.112 1354.67 127.589 1354.67 Q132.797 1354.67 135.806 1357.85 Q138.839 1360.99 138.839 1366.43 Q138.839 1371.76 135.691 1374.98 Q132.543 1378.19 127.311 1378.19 Q121.316 1378.19 118.145 1373.61 Q114.973 1369 114.973 1360.28 Q114.973 1352.08 118.862 1347.22 Q122.751 1342.34 129.302 1342.34 Q131.061 1342.34 132.844 1342.68 Q134.649 1343.03 136.594 1343.73 Z\" fill=\"#000000\" fill-rule=\"evenodd\" fill-opacity=\"1\" /><path clip-path=\"url(#clip890)\" d=\"M 0 0 M63.1911 1059.9 Q59.58 1059.9 57.7513 1063.46 Q55.9458 1067 55.9458 1074.13 Q55.9458 1081.24 57.7513 1084.8 Q59.58 1088.34 63.1911 1088.34 Q66.8254 1088.34 68.6309 1084.8 Q70.4596 1081.24 70.4596 1074.13 Q70.4596 1067 68.6309 1063.46 Q66.8254 1059.9 63.1911 1059.9 M63.1911 1056.19 Q69.0013 1056.19 72.0568 1060.8 Q75.1355 1065.38 75.1355 1074.13 Q75.1355 1082.86 72.0568 1087.47 Q69.0013 1092.05 63.1911 1092.05 Q57.381 1092.05 54.3023 1087.47 Q51.2468 1082.86 51.2468 1074.13 Q51.2468 1065.38 54.3023 1060.8 Q57.381 1056.19 63.1911 1056.19 Z\" fill=\"#000000\" fill-rule=\"evenodd\" fill-opacity=\"1\" /><path clip-path=\"url(#clip890)\" d=\"M 0 0 M80.2049 1085.5 L85.0892 1085.5 L85.0892 1091.38 L80.2049 1091.38 L80.2049 1085.5 Z\" fill=\"#000000\" fill-rule=\"evenodd\" fill-opacity=\"1\" /><path clip-path=\"url(#clip890)\" d=\"M 0 0 M90.2975 1090.66 L90.2975 1086.4 Q92.0567 1087.23 93.8623 1087.67 Q95.6678 1088.11 97.4039 1088.11 Q102.034 1088.11 104.464 1085.01 Q106.918 1081.89 107.265 1075.54 Q105.922 1077.53 103.862 1078.6 Q101.802 1079.66 99.3021 1079.66 Q94.1169 1079.66 91.0845 1076.54 Q88.0753 1073.39 88.0753 1067.95 Q88.0753 1062.63 91.2234 1059.41 Q94.3715 1056.19 99.603 1056.19 Q105.598 1056.19 108.746 1060.8 Q111.918 1065.38 111.918 1074.13 Q111.918 1082.3 108.029 1087.19 Q104.163 1092.05 97.6122 1092.05 Q95.853 1092.05 94.0475 1091.7 Q92.2419 1091.35 90.2975 1090.66 M99.603 1076.01 Q102.751 1076.01 104.58 1073.85 Q106.432 1071.7 106.432 1067.95 Q106.432 1064.22 104.58 1062.07 Q102.751 1059.9 99.603 1059.9 Q96.4548 1059.9 94.603 1062.07 Q92.7743 1064.22 92.7743 1067.95 Q92.7743 1071.7 94.603 1073.85 Q96.4548 1076.01 99.603 1076.01 Z\" fill=\"#000000\" fill-rule=\"evenodd\" fill-opacity=\"1\" /><path clip-path=\"url(#clip890)\" d=\"M 0 0 M126.987 1074.97 Q123.654 1074.97 121.732 1076.75 Q119.834 1078.53 119.834 1081.65 Q119.834 1084.78 121.732 1086.56 Q123.654 1088.34 126.987 1088.34 Q130.32 1088.34 132.242 1086.56 Q134.163 1084.76 134.163 1081.65 Q134.163 1078.53 132.242 1076.75 Q130.344 1074.97 126.987 1074.97 M122.311 1072.97 Q119.302 1072.23 117.612 1070.17 Q115.945 1068.11 115.945 1065.15 Q115.945 1061.01 118.885 1058.6 Q121.848 1056.19 126.987 1056.19 Q132.149 1056.19 135.089 1058.6 Q138.029 1061.01 138.029 1065.15 Q138.029 1068.11 136.339 1070.17 Q134.672 1072.23 131.686 1072.97 Q135.066 1073.76 136.941 1076.05 Q138.839 1078.34 138.839 1081.65 Q138.839 1086.68 135.76 1089.36 Q132.705 1092.05 126.987 1092.05 Q121.27 1092.05 118.191 1089.36 Q115.135 1086.68 115.135 1081.65 Q115.135 1078.34 117.033 1076.05 Q118.932 1073.76 122.311 1072.97 M120.598 1065.59 Q120.598 1068.28 122.265 1069.78 Q123.955 1071.28 126.987 1071.28 Q129.996 1071.28 131.686 1069.78 Q133.399 1068.28 133.399 1065.59 Q133.399 1062.9 131.686 1061.4 Q129.996 1059.9 126.987 1059.9 Q123.955 1059.9 122.265 1061.4 Q120.598 1062.9 120.598 1065.59 Z\" fill=\"#000000\" fill-rule=\"evenodd\" fill-opacity=\"1\" /><path clip-path=\"url(#clip890)\" d=\"M 0 0 M54.9504 801.297 L62.5893 801.297 L62.5893 774.931 L54.2791 776.598 L54.2791 772.339 L62.543 770.672 L67.2189 770.672 L67.2189 801.297 L74.8577 801.297 L74.8577 805.232 L54.9504 805.232 L54.9504 801.297 Z\" fill=\"#000000\" fill-rule=\"evenodd\" fill-opacity=\"1\" /><path clip-path=\"url(#clip890)\" d=\"M 0 0 M79.9272 799.353 L84.8114 799.353 L84.8114 805.232 L79.9272 805.232 L79.9272 799.353 Z\" fill=\"#000000\" fill-rule=\"evenodd\" fill-opacity=\"1\" /><path clip-path=\"url(#clip890)\" d=\"M 0 0 M99.8808 773.751 Q96.2697 773.751 94.441 777.316 Q92.6354 780.857 92.6354 787.987 Q92.6354 795.093 94.441 798.658 Q96.2697 802.2 99.8808 802.2 Q103.515 802.2 105.321 798.658 Q107.149 795.093 107.149 787.987 Q107.149 780.857 105.321 777.316 Q103.515 773.751 99.8808 773.751 M99.8808 770.047 Q105.691 770.047 108.746 774.654 Q111.825 779.237 111.825 787.987 Q111.825 796.714 108.746 801.32 Q105.691 805.904 99.8808 805.904 Q94.0706 805.904 90.9919 801.32 Q87.9364 796.714 87.9364 787.987 Q87.9364 779.237 90.9919 774.654 Q94.0706 770.047 99.8808 770.047 Z\" fill=\"#000000\" fill-rule=\"evenodd\" fill-opacity=\"1\" /><path clip-path=\"url(#clip890)\" d=\"M 0 0 M126.894 773.751 Q123.283 773.751 121.455 777.316 Q119.649 780.857 119.649 787.987 Q119.649 795.093 121.455 798.658 Q123.283 802.2 126.894 802.2 Q130.529 802.2 132.334 798.658 Q134.163 795.093 134.163 787.987 Q134.163 780.857 132.334 777.316 Q130.529 773.751 126.894 773.751 M126.894 770.047 Q132.705 770.047 135.76 774.654 Q138.839 779.237 138.839 787.987 Q138.839 796.714 135.76 801.32 Q132.705 805.904 126.894 805.904 Q121.084 805.904 118.006 801.32 Q114.95 796.714 114.95 787.987 Q114.95 779.237 118.006 774.654 Q121.084 770.047 126.894 770.047 Z\" fill=\"#000000\" fill-rule=\"evenodd\" fill-opacity=\"1\" /><path clip-path=\"url(#clip890)\" d=\"M 0 0 M56.5477 515.152 L64.1865 515.152 L64.1865 488.787 L55.8764 490.453 L55.8764 486.194 L64.1402 484.527 L68.8161 484.527 L68.8161 515.152 L76.455 515.152 L76.455 519.087 L56.5477 519.087 L56.5477 515.152 Z\" fill=\"#000000\" fill-rule=\"evenodd\" fill-opacity=\"1\" /><path clip-path=\"url(#clip890)\" d=\"M 0 0 M81.5244 513.208 L86.4086 513.208 L86.4086 519.087 L81.5244 519.087 L81.5244 513.208 Z\" fill=\"#000000\" fill-rule=\"evenodd\" fill-opacity=\"1\" /><path clip-path=\"url(#clip890)\" d=\"M 0 0 M101.478 487.606 Q97.8669 487.606 96.0382 491.171 Q94.2326 494.713 94.2326 501.842 Q94.2326 508.949 96.0382 512.513 Q97.8669 516.055 101.478 516.055 Q105.112 516.055 106.918 512.513 Q108.746 508.949 108.746 501.842 Q108.746 494.713 106.918 491.171 Q105.112 487.606 101.478 487.606 M101.478 483.902 Q107.288 483.902 110.344 488.509 Q113.422 493.092 113.422 501.842 Q113.422 510.569 110.344 515.175 Q107.288 519.759 101.478 519.759 Q95.6678 519.759 92.5891 515.175 Q89.5336 510.569 89.5336 501.842 Q89.5336 493.092 92.5891 488.509 Q95.6678 483.902 101.478 483.902 Z\" fill=\"#000000\" fill-rule=\"evenodd\" fill-opacity=\"1\" /><path clip-path=\"url(#clip890)\" d=\"M 0 0 M122.52 515.152 L138.839 515.152 L138.839 519.087 L116.895 519.087 L116.895 515.152 Q119.557 512.398 124.14 507.768 Q128.746 503.115 129.927 501.773 Q132.172 499.25 133.052 497.513 Q133.955 495.754 133.955 494.064 Q133.955 491.31 132.01 489.574 Q130.089 487.838 126.987 487.838 Q124.788 487.838 122.334 488.601 Q119.904 489.365 117.126 490.916 L117.126 486.194 Q119.95 485.06 122.404 484.481 Q124.857 483.902 126.894 483.902 Q132.265 483.902 135.459 486.588 Q138.654 489.273 138.654 493.763 Q138.654 495.893 137.844 497.814 Q137.056 499.712 134.95 502.305 Q134.371 502.976 131.269 506.194 Q128.168 509.388 122.52 515.152 Z\" fill=\"#000000\" fill-rule=\"evenodd\" fill-opacity=\"1\" /><path clip-path=\"url(#clip890)\" d=\"M 0 0 M54.4643 229.007 L62.1032 229.007 L62.1032 202.642 L53.793 204.308 L53.793 200.049 L62.0569 198.383 L66.7328 198.383 L66.7328 229.007 L74.3716 229.007 L74.3716 232.943 L54.4643 232.943 L54.4643 229.007 Z\" fill=\"#000000\" fill-rule=\"evenodd\" fill-opacity=\"1\" /><path clip-path=\"url(#clip890)\" d=\"M 0 0 M79.441 227.063 L84.3253 227.063 L84.3253 232.943 L79.441 232.943 L79.441 227.063 Z\" fill=\"#000000\" fill-rule=\"evenodd\" fill-opacity=\"1\" /><path clip-path=\"url(#clip890)\" d=\"M 0 0 M99.3946 201.461 Q95.7836 201.461 93.9549 205.026 Q92.1493 208.568 92.1493 215.697 Q92.1493 222.804 93.9549 226.368 Q95.7836 229.91 99.3946 229.91 Q103.029 229.91 104.834 226.368 Q106.663 222.804 106.663 215.697 Q106.663 208.568 104.834 205.026 Q103.029 201.461 99.3946 201.461 M99.3946 197.758 Q105.205 197.758 108.26 202.364 Q111.339 206.947 111.339 215.697 Q111.339 224.424 108.26 229.031 Q105.205 233.614 99.3946 233.614 Q93.5845 233.614 90.5058 229.031 Q87.4503 224.424 87.4503 215.697 Q87.4503 206.947 90.5058 202.364 Q93.5845 197.758 99.3946 197.758 Z\" fill=\"#000000\" fill-rule=\"evenodd\" fill-opacity=\"1\" /><path clip-path=\"url(#clip890)\" d=\"M 0 0 M129.256 202.457 L117.45 220.906 L129.256 220.906 L129.256 202.457 M128.029 198.383 L133.908 198.383 L133.908 220.906 L138.839 220.906 L138.839 224.794 L133.908 224.794 L133.908 232.943 L129.256 232.943 L129.256 224.794 L113.654 224.794 L113.654 220.281 L128.029 198.383 Z\" fill=\"#000000\" fill-rule=\"evenodd\" fill-opacity=\"1\" /><circle clip-path=\"url(#clip892)\" cx=\"339.21\" cy=\"881.174\" r=\"14\" fill=\"#ff0000\" fill-rule=\"evenodd\" fill-opacity=\"1\" stroke=\"#000000\" stroke-opacity=\"1\" stroke-width=\"3.2\"/>\n<circle clip-path=\"url(#clip892)\" cx=\"441.942\" cy=\"686.51\" r=\"14\" fill=\"#ff0000\" fill-rule=\"evenodd\" fill-opacity=\"1\" stroke=\"#000000\" stroke-opacity=\"1\" stroke-width=\"3.2\"/>\n<circle clip-path=\"url(#clip892)\" cx=\"544.674\" cy=\"519.526\" r=\"14\" fill=\"#ff0000\" fill-rule=\"evenodd\" fill-opacity=\"1\" stroke=\"#000000\" stroke-opacity=\"1\" stroke-width=\"3.2\"/>\n<circle clip-path=\"url(#clip892)\" cx=\"647.406\" cy=\"483.823\" r=\"14\" fill=\"#ff0000\" fill-rule=\"evenodd\" fill-opacity=\"1\" stroke=\"#000000\" stroke-opacity=\"1\" stroke-width=\"3.2\"/>\n<circle clip-path=\"url(#clip892)\" cx=\"750.138\" cy=\"569.91\" r=\"14\" fill=\"#ff0000\" fill-rule=\"evenodd\" fill-opacity=\"1\" stroke=\"#000000\" stroke-opacity=\"1\" stroke-width=\"3.2\"/>\n<circle clip-path=\"url(#clip892)\" cx=\"852.87\" cy=\"582.686\" r=\"14\" fill=\"#ff0000\" fill-rule=\"evenodd\" fill-opacity=\"1\" stroke=\"#000000\" stroke-opacity=\"1\" stroke-width=\"3.2\"/>\n<circle clip-path=\"url(#clip892)\" cx=\"955.602\" cy=\"454.347\" r=\"14\" fill=\"#ff0000\" fill-rule=\"evenodd\" fill-opacity=\"1\" stroke=\"#000000\" stroke-opacity=\"1\" stroke-width=\"3.2\"/>\n<circle clip-path=\"url(#clip892)\" cx=\"1058.33\" cy=\"262.464\" r=\"14\" fill=\"#ff0000\" fill-rule=\"evenodd\" fill-opacity=\"1\" stroke=\"#000000\" stroke-opacity=\"1\" stroke-width=\"3.2\"/>\n<circle clip-path=\"url(#clip892)\" cx=\"1161.07\" cy=\"211.918\" r=\"14\" fill=\"#ff0000\" fill-rule=\"evenodd\" fill-opacity=\"1\" stroke=\"#000000\" stroke-opacity=\"1\" stroke-width=\"3.2\"/>\n<circle clip-path=\"url(#clip892)\" cx=\"1263.8\" cy=\"360.547\" r=\"14\" fill=\"#ff0000\" fill-rule=\"evenodd\" fill-opacity=\"1\" stroke=\"#000000\" stroke-opacity=\"1\" stroke-width=\"3.2\"/>\n<circle clip-path=\"url(#clip892)\" cx=\"1366.53\" cy=\"538.529\" r=\"14\" fill=\"#ff0000\" fill-rule=\"evenodd\" fill-opacity=\"1\" stroke=\"#000000\" stroke-opacity=\"1\" stroke-width=\"3.2\"/>\n<circle clip-path=\"url(#clip892)\" cx=\"1469.26\" cy=\"504.177\" r=\"14\" fill=\"#ff0000\" fill-rule=\"evenodd\" fill-opacity=\"1\" stroke=\"#000000\" stroke-opacity=\"1\" stroke-width=\"3.2\"/>\n<circle clip-path=\"url(#clip892)\" cx=\"1571.99\" cy=\"304.225\" r=\"14\" fill=\"#ff0000\" fill-rule=\"evenodd\" fill-opacity=\"1\" stroke=\"#000000\" stroke-opacity=\"1\" stroke-width=\"3.2\"/>\n<circle clip-path=\"url(#clip892)\" cx=\"1674.73\" cy=\"103.076\" r=\"14\" fill=\"#ff0000\" fill-rule=\"evenodd\" fill-opacity=\"1\" stroke=\"#000000\" stroke-opacity=\"1\" stroke-width=\"3.2\"/>\n<circle clip-path=\"url(#clip892)\" cx=\"1777.46\" cy=\"114.172\" r=\"14\" fill=\"#ff0000\" fill-rule=\"evenodd\" fill-opacity=\"1\" stroke=\"#000000\" stroke-opacity=\"1\" stroke-width=\"3.2\"/>\n<circle clip-path=\"url(#clip892)\" cx=\"1880.19\" cy=\"325.17\" r=\"14\" fill=\"#ff0000\" fill-rule=\"evenodd\" fill-opacity=\"1\" stroke=\"#000000\" stroke-opacity=\"1\" stroke-width=\"3.2\"/>\n<circle clip-path=\"url(#clip892)\" cx=\"1982.92\" cy=\"481.76\" r=\"14\" fill=\"#ff0000\" fill-rule=\"evenodd\" fill-opacity=\"1\" stroke=\"#000000\" stroke-opacity=\"1\" stroke-width=\"3.2\"/>\n<circle clip-path=\"url(#clip892)\" cx=\"2085.65\" cy=\"435.347\" r=\"14\" fill=\"#ff0000\" fill-rule=\"evenodd\" fill-opacity=\"1\" stroke=\"#000000\" stroke-opacity=\"1\" stroke-width=\"3.2\"/>\n<circle clip-path=\"url(#clip892)\" cx=\"2188.38\" cy=\"252.086\" r=\"14\" fill=\"#ff0000\" fill-rule=\"evenodd\" fill-opacity=\"1\" stroke=\"#000000\" stroke-opacity=\"1\" stroke-width=\"3.2\"/>\n<circle clip-path=\"url(#clip892)\" cx=\"2291.12\" cy=\"87.9763\" r=\"14\" fill=\"#ff0000\" fill-rule=\"evenodd\" fill-opacity=\"1\" stroke=\"#000000\" stroke-opacity=\"1\" stroke-width=\"3.2\"/>\n<circle clip-path=\"url(#clip892)\" cx=\"339.21\" cy=\"691.671\" r=\"14\" fill=\"#ff0000\" fill-rule=\"evenodd\" fill-opacity=\"1\" stroke=\"#000000\" stroke-opacity=\"1\" stroke-width=\"3.2\"/>\n<circle clip-path=\"url(#clip892)\" cx=\"441.942\" cy=\"883.051\" r=\"14\" fill=\"#ff0000\" fill-rule=\"evenodd\" fill-opacity=\"1\" stroke=\"#000000\" stroke-opacity=\"1\" stroke-width=\"3.2\"/>\n<circle clip-path=\"url(#clip892)\" cx=\"544.674\" cy=\"1049.99\" r=\"14\" fill=\"#ff0000\" fill-rule=\"evenodd\" fill-opacity=\"1\" stroke=\"#000000\" stroke-opacity=\"1\" stroke-width=\"3.2\"/>\n<circle clip-path=\"url(#clip892)\" cx=\"647.406\" cy=\"1084.71\" r=\"14\" fill=\"#ff0000\" fill-rule=\"evenodd\" fill-opacity=\"1\" stroke=\"#000000\" stroke-opacity=\"1\" stroke-width=\"3.2\"/>\n<circle clip-path=\"url(#clip892)\" cx=\"750.138\" cy=\"1007.05\" r=\"14\" fill=\"#ff0000\" fill-rule=\"evenodd\" fill-opacity=\"1\" stroke=\"#000000\" stroke-opacity=\"1\" stroke-width=\"3.2\"/>\n<circle clip-path=\"url(#clip892)\" cx=\"852.87\" cy=\"988.396\" r=\"14\" fill=\"#ff0000\" fill-rule=\"evenodd\" fill-opacity=\"1\" stroke=\"#000000\" stroke-opacity=\"1\" stroke-width=\"3.2\"/>\n<circle clip-path=\"url(#clip892)\" cx=\"955.602\" cy=\"1109.59\" r=\"14\" fill=\"#ff0000\" fill-rule=\"evenodd\" fill-opacity=\"1\" stroke=\"#000000\" stroke-opacity=\"1\" stroke-width=\"3.2\"/>\n<circle clip-path=\"url(#clip892)\" cx=\"1058.33\" cy=\"1289.42\" r=\"14\" fill=\"#ff0000\" fill-rule=\"evenodd\" fill-opacity=\"1\" stroke=\"#000000\" stroke-opacity=\"1\" stroke-width=\"3.2\"/>\n<circle clip-path=\"url(#clip892)\" cx=\"1161.07\" cy=\"1360.8\" r=\"14\" fill=\"#ff0000\" fill-rule=\"evenodd\" fill-opacity=\"1\" stroke=\"#000000\" stroke-opacity=\"1\" stroke-width=\"3.2\"/>\n<circle clip-path=\"url(#clip892)\" cx=\"1263.8\" cy=\"1211.69\" r=\"14\" fill=\"#ff0000\" fill-rule=\"evenodd\" fill-opacity=\"1\" stroke=\"#000000\" stroke-opacity=\"1\" stroke-width=\"3.2\"/>\n<circle clip-path=\"url(#clip892)\" cx=\"1366.53\" cy=\"1050.93\" r=\"14\" fill=\"#ff0000\" fill-rule=\"evenodd\" fill-opacity=\"1\" stroke=\"#000000\" stroke-opacity=\"1\" stroke-width=\"3.2\"/>\n<circle clip-path=\"url(#clip892)\" cx=\"1469.26\" cy=\"1063.53\" r=\"14\" fill=\"#ff0000\" fill-rule=\"evenodd\" fill-opacity=\"1\" stroke=\"#000000\" stroke-opacity=\"1\" stroke-width=\"3.2\"/>\n<circle clip-path=\"url(#clip892)\" cx=\"1571.99\" cy=\"1248.09\" r=\"14\" fill=\"#ff0000\" fill-rule=\"evenodd\" fill-opacity=\"1\" stroke=\"#000000\" stroke-opacity=\"1\" stroke-width=\"3.2\"/>\n<circle clip-path=\"url(#clip892)\" cx=\"1674.73\" cy=\"1432.24\" r=\"14\" fill=\"#ff0000\" fill-rule=\"evenodd\" fill-opacity=\"1\" stroke=\"#000000\" stroke-opacity=\"1\" stroke-width=\"3.2\"/>\n<circle clip-path=\"url(#clip892)\" cx=\"1777.46\" cy=\"1441.12\" r=\"14\" fill=\"#ff0000\" fill-rule=\"evenodd\" fill-opacity=\"1\" stroke=\"#000000\" stroke-opacity=\"1\" stroke-width=\"3.2\"/>\n<circle clip-path=\"url(#clip892)\" cx=\"1880.19\" cy=\"1297.02\" r=\"14\" fill=\"#ff0000\" fill-rule=\"evenodd\" fill-opacity=\"1\" stroke=\"#000000\" stroke-opacity=\"1\" stroke-width=\"3.2\"/>\n<circle clip-path=\"url(#clip892)\" cx=\"1982.92\" cy=\"1118.32\" r=\"14\" fill=\"#ff0000\" fill-rule=\"evenodd\" fill-opacity=\"1\" stroke=\"#000000\" stroke-opacity=\"1\" stroke-width=\"3.2\"/>\n<circle clip-path=\"url(#clip892)\" cx=\"2085.65\" cy=\"1109.65\" r=\"14\" fill=\"#ff0000\" fill-rule=\"evenodd\" fill-opacity=\"1\" stroke=\"#000000\" stroke-opacity=\"1\" stroke-width=\"3.2\"/>\n<circle clip-path=\"url(#clip892)\" cx=\"2188.38\" cy=\"1293.18\" r=\"14\" fill=\"#ff0000\" fill-rule=\"evenodd\" fill-opacity=\"1\" stroke=\"#000000\" stroke-opacity=\"1\" stroke-width=\"3.2\"/>\n<circle clip-path=\"url(#clip892)\" cx=\"2291.12\" cy=\"1445.72\" r=\"14\" fill=\"#ff0000\" fill-rule=\"evenodd\" fill-opacity=\"1\" stroke=\"#000000\" stroke-opacity=\"1\" stroke-width=\"3.2\"/>\n<circle clip-path=\"url(#clip892)\" cx=\"339.21\" cy=\"805.276\" r=\"14\" fill=\"#0000ff\" fill-rule=\"evenodd\" fill-opacity=\"1\" stroke=\"#000000\" stroke-opacity=\"1\" stroke-width=\"3.2\"/>\n<circle clip-path=\"url(#clip892)\" cx=\"441.942\" cy=\"797.45\" r=\"14\" fill=\"#0000ff\" fill-rule=\"evenodd\" fill-opacity=\"1\" stroke=\"#000000\" stroke-opacity=\"1\" stroke-width=\"3.2\"/>\n<circle clip-path=\"url(#clip892)\" cx=\"544.674\" cy=\"792.464\" r=\"14\" fill=\"#0000ff\" fill-rule=\"evenodd\" fill-opacity=\"1\" stroke=\"#000000\" stroke-opacity=\"1\" stroke-width=\"3.2\"/>\n<circle clip-path=\"url(#clip892)\" cx=\"647.406\" cy=\"791.226\" r=\"14\" fill=\"#0000ff\" fill-rule=\"evenodd\" fill-opacity=\"1\" stroke=\"#000000\" stroke-opacity=\"1\" stroke-width=\"3.2\"/>\n<circle clip-path=\"url(#clip892)\" cx=\"750.138\" cy=\"794.494\" r=\"14\" fill=\"#0000ff\" fill-rule=\"evenodd\" fill-opacity=\"1\" stroke=\"#000000\" stroke-opacity=\"1\" stroke-width=\"3.2\"/>\n<circle clip-path=\"url(#clip892)\" cx=\"852.87\" cy=\"794.519\" r=\"14\" fill=\"#0000ff\" fill-rule=\"evenodd\" fill-opacity=\"1\" stroke=\"#000000\" stroke-opacity=\"1\" stroke-width=\"3.2\"/>\n<circle clip-path=\"url(#clip892)\" cx=\"955.602\" cy=\"790.271\" r=\"14\" fill=\"#0000ff\" fill-rule=\"evenodd\" fill-opacity=\"1\" stroke=\"#000000\" stroke-opacity=\"1\" stroke-width=\"3.2\"/>\n<circle clip-path=\"url(#clip892)\" cx=\"1058.33\" cy=\"784.144\" r=\"14\" fill=\"#0000ff\" fill-rule=\"evenodd\" fill-opacity=\"1\" stroke=\"#000000\" stroke-opacity=\"1\" stroke-width=\"3.2\"/>\n<circle clip-path=\"url(#clip892)\" cx=\"1161.07\" cy=\"785.295\" r=\"14\" fill=\"#0000ff\" fill-rule=\"evenodd\" fill-opacity=\"1\" stroke=\"#000000\" stroke-opacity=\"1\" stroke-width=\"3.2\"/>\n<circle clip-path=\"url(#clip892)\" cx=\"1263.8\" cy=\"787.214\" r=\"14\" fill=\"#0000ff\" fill-rule=\"evenodd\" fill-opacity=\"1\" stroke=\"#000000\" stroke-opacity=\"1\" stroke-width=\"3.2\"/>\n<circle clip-path=\"url(#clip892)\" cx=\"1366.53\" cy=\"794.269\" r=\"14\" fill=\"#0000ff\" fill-rule=\"evenodd\" fill-opacity=\"1\" stroke=\"#000000\" stroke-opacity=\"1\" stroke-width=\"3.2\"/>\n<circle clip-path=\"url(#clip892)\" cx=\"1469.26\" cy=\"791.916\" r=\"14\" fill=\"#0000ff\" fill-rule=\"evenodd\" fill-opacity=\"1\" stroke=\"#000000\" stroke-opacity=\"1\" stroke-width=\"3.2\"/>\n<circle clip-path=\"url(#clip892)\" cx=\"1571.99\" cy=\"785.434\" r=\"14\" fill=\"#0000ff\" fill-rule=\"evenodd\" fill-opacity=\"1\" stroke=\"#000000\" stroke-opacity=\"1\" stroke-width=\"3.2\"/>\n<circle clip-path=\"url(#clip892)\" cx=\"1674.73\" cy=\"779.391\" r=\"14\" fill=\"#0000ff\" fill-rule=\"evenodd\" fill-opacity=\"1\" stroke=\"#000000\" stroke-opacity=\"1\" stroke-width=\"3.2\"/>\n<circle clip-path=\"url(#clip892)\" cx=\"1777.46\" cy=\"780.457\" r=\"14\" fill=\"#0000ff\" fill-rule=\"evenodd\" fill-opacity=\"1\" stroke=\"#000000\" stroke-opacity=\"1\" stroke-width=\"3.2\"/>\n<circle clip-path=\"url(#clip892)\" cx=\"1880.19\" cy=\"795.095\" r=\"14\" fill=\"#0000ff\" fill-rule=\"evenodd\" fill-opacity=\"1\" stroke=\"#000000\" stroke-opacity=\"1\" stroke-width=\"3.2\"/>\n<circle clip-path=\"url(#clip892)\" cx=\"1982.92\" cy=\"796.062\" r=\"14\" fill=\"#0000ff\" fill-rule=\"evenodd\" fill-opacity=\"1\" stroke=\"#000000\" stroke-opacity=\"1\" stroke-width=\"3.2\"/>\n<circle clip-path=\"url(#clip892)\" cx=\"2085.65\" cy=\"788.188\" r=\"14\" fill=\"#0000ff\" fill-rule=\"evenodd\" fill-opacity=\"1\" stroke=\"#000000\" stroke-opacity=\"1\" stroke-width=\"3.2\"/>\n<circle clip-path=\"url(#clip892)\" cx=\"2188.38\" cy=\"783.798\" r=\"14\" fill=\"#0000ff\" fill-rule=\"evenodd\" fill-opacity=\"1\" stroke=\"#000000\" stroke-opacity=\"1\" stroke-width=\"3.2\"/>\n<circle clip-path=\"url(#clip892)\" cx=\"2291.12\" cy=\"779.723\" r=\"14\" fill=\"#0000ff\" fill-rule=\"evenodd\" fill-opacity=\"1\" stroke=\"#000000\" stroke-opacity=\"1\" stroke-width=\"3.2\"/>\n<circle clip-path=\"url(#clip892)\" cx=\"339.21\" cy=\"771.143\" r=\"14\" fill=\"#0000ff\" fill-rule=\"evenodd\" fill-opacity=\"1\" stroke=\"#000000\" stroke-opacity=\"1\" stroke-width=\"3.2\"/>\n<circle clip-path=\"url(#clip892)\" cx=\"441.942\" cy=\"776.086\" r=\"14\" fill=\"#0000ff\" fill-rule=\"evenodd\" fill-opacity=\"1\" stroke=\"#000000\" stroke-opacity=\"1\" stroke-width=\"3.2\"/>\n<circle clip-path=\"url(#clip892)\" cx=\"544.674\" cy=\"781.862\" r=\"14\" fill=\"#0000ff\" fill-rule=\"evenodd\" fill-opacity=\"1\" stroke=\"#000000\" stroke-opacity=\"1\" stroke-width=\"3.2\"/>\n<circle clip-path=\"url(#clip892)\" cx=\"647.406\" cy=\"782.855\" r=\"14\" fill=\"#0000ff\" fill-rule=\"evenodd\" fill-opacity=\"1\" stroke=\"#000000\" stroke-opacity=\"1\" stroke-width=\"3.2\"/>\n<circle clip-path=\"url(#clip892)\" cx=\"750.138\" cy=\"780.441\" r=\"14\" fill=\"#0000ff\" fill-rule=\"evenodd\" fill-opacity=\"1\" stroke=\"#000000\" stroke-opacity=\"1\" stroke-width=\"3.2\"/>\n<circle clip-path=\"url(#clip892)\" cx=\"852.87\" cy=\"779.839\" r=\"14\" fill=\"#0000ff\" fill-rule=\"evenodd\" fill-opacity=\"1\" stroke=\"#000000\" stroke-opacity=\"1\" stroke-width=\"3.2\"/>\n<circle clip-path=\"url(#clip892)\" cx=\"955.602\" cy=\"783.643\" r=\"14\" fill=\"#0000ff\" fill-rule=\"evenodd\" fill-opacity=\"1\" stroke=\"#000000\" stroke-opacity=\"1\" stroke-width=\"3.2\"/>\n<circle clip-path=\"url(#clip892)\" cx=\"1058.33\" cy=\"789.821\" r=\"14\" fill=\"#0000ff\" fill-rule=\"evenodd\" fill-opacity=\"1\" stroke=\"#000000\" stroke-opacity=\"1\" stroke-width=\"3.2\"/>\n<circle clip-path=\"url(#clip892)\" cx=\"1161.07\" cy=\"795.936\" r=\"14\" fill=\"#0000ff\" fill-rule=\"evenodd\" fill-opacity=\"1\" stroke=\"#000000\" stroke-opacity=\"1\" stroke-width=\"3.2\"/>\n<circle clip-path=\"url(#clip892)\" cx=\"1263.8\" cy=\"787.094\" r=\"14\" fill=\"#0000ff\" fill-rule=\"evenodd\" fill-opacity=\"1\" stroke=\"#000000\" stroke-opacity=\"1\" stroke-width=\"3.2\"/>\n<circle clip-path=\"url(#clip892)\" cx=\"1366.53\" cy=\"784.085\" r=\"14\" fill=\"#0000ff\" fill-rule=\"evenodd\" fill-opacity=\"1\" stroke=\"#000000\" stroke-opacity=\"1\" stroke-width=\"3.2\"/>\n<circle clip-path=\"url(#clip892)\" cx=\"1469.26\" cy=\"782.19\" r=\"14\" fill=\"#0000ff\" fill-rule=\"evenodd\" fill-opacity=\"1\" stroke=\"#000000\" stroke-opacity=\"1\" stroke-width=\"3.2\"/>\n<circle clip-path=\"url(#clip892)\" cx=\"1571.99\" cy=\"788.155\" r=\"14\" fill=\"#0000ff\" fill-rule=\"evenodd\" fill-opacity=\"1\" stroke=\"#000000\" stroke-opacity=\"1\" stroke-width=\"3.2\"/>\n<circle clip-path=\"url(#clip892)\" cx=\"1674.73\" cy=\"794.968\" r=\"14\" fill=\"#0000ff\" fill-rule=\"evenodd\" fill-opacity=\"1\" stroke=\"#000000\" stroke-opacity=\"1\" stroke-width=\"3.2\"/>\n<circle clip-path=\"url(#clip892)\" cx=\"1777.46\" cy=\"794.814\" r=\"14\" fill=\"#0000ff\" fill-rule=\"evenodd\" fill-opacity=\"1\" stroke=\"#000000\" stroke-opacity=\"1\" stroke-width=\"3.2\"/>\n<circle clip-path=\"url(#clip892)\" cx=\"1880.19\" cy=\"796.642\" r=\"14\" fill=\"#0000ff\" fill-rule=\"evenodd\" fill-opacity=\"1\" stroke=\"#000000\" stroke-opacity=\"1\" stroke-width=\"3.2\"/>\n<circle clip-path=\"url(#clip892)\" cx=\"1982.92\" cy=\"788.111\" r=\"14\" fill=\"#0000ff\" fill-rule=\"evenodd\" fill-opacity=\"1\" stroke=\"#000000\" stroke-opacity=\"1\" stroke-width=\"3.2\"/>\n<circle clip-path=\"url(#clip892)\" cx=\"2085.65\" cy=\"783.382\" r=\"14\" fill=\"#0000ff\" fill-rule=\"evenodd\" fill-opacity=\"1\" stroke=\"#000000\" stroke-opacity=\"1\" stroke-width=\"3.2\"/>\n<circle clip-path=\"url(#clip892)\" cx=\"2188.38\" cy=\"789.719\" r=\"14\" fill=\"#0000ff\" fill-rule=\"evenodd\" fill-opacity=\"1\" stroke=\"#000000\" stroke-opacity=\"1\" stroke-width=\"3.2\"/>\n<circle clip-path=\"url(#clip892)\" cx=\"2291.12\" cy=\"795.936\" r=\"14\" fill=\"#0000ff\" fill-rule=\"evenodd\" fill-opacity=\"1\" stroke=\"#000000\" stroke-opacity=\"1\" stroke-width=\"3.2\"/>\n</svg>\n"
     },
     "execution_count": 13,
     "metadata": {},
     "output_type": "execute_result"
    }
   ],
   "source": [
    "scatter(kgrid, B00fid./B00ap, label=:none, color=:red)\n",
    "scatter!(kgrid, B00fid./B00am, label=:none, color=:red)\n",
    "scatter!(kgrid, B00fid./B00ep, label=:none, color=:blue)\n",
    "scatter!(kgrid, B00fid./B00em, label=:none, color=:blue)\n",
    "scatter!(kgrid, B00fid./B00eu, label=:none, color=:blue)"
   ]
  },
  {
   "cell_type": "code",
   "execution_count": null,
   "metadata": {},
   "outputs": [],
   "source": []
  }
 ],
 "metadata": {
  "kernelspec": {
   "display_name": "Julia 1.5.3",
   "language": "julia",
   "name": "julia-1.5"
  },
  "language_info": {
   "file_extension": ".jl",
   "mimetype": "application/julia",
   "name": "julia",
   "version": "1.5.3"
  },
  "orig_nbformat": 4
 },
 "nbformat": 4,
 "nbformat_minor": 2
}
