{
 "cells": [
  {
   "cell_type": "code",
   "execution_count": 37,
   "metadata": {},
   "outputs": [],
   "source": [
    "import SphericalHarmonics.sphericalharmonic\n",
    "using Cubature\n",
    "using Plots"
   ]
  },
  {
   "cell_type": "code",
   "execution_count": 16,
   "metadata": {},
   "outputs": [
    {
     "data": {
      "text/plain": [
       "-0.18910100312194328 - 0.32753254516944075im"
      ]
     },
     "metadata": {},
     "output_type": "display_data"
    }
   ],
   "source": [
    "sphericalharmonic(π/3, π/3, l = 500, m = 250)"
   ]
  },
  {
   "cell_type": "code",
   "execution_count": 24,
   "metadata": {},
   "outputs": [
    {
     "data": {
      "text/plain": [
       "dYlm (generic function with 1 method)"
      ]
     },
     "metadata": {},
     "output_type": "display_data"
    }
   ],
   "source": [
    "function dYlm(θ, ϕ, l, m)\n",
    "    f1 = sphericalharmonic(θ, ϕ, l, m)\n",
    "    f2 = sphericalharmonic(θ + 0.001, ϕ, l, m)\n",
    "    return (f2 - f1)/0.001/tan(θ)\n",
    "end"
   ]
  },
  {
   "cell_type": "code",
   "execution_count": 124,
   "metadata": {},
   "outputs": [
    {
     "data": {
      "text/plain": [
       "-4.123018160607811e-6"
      ]
     },
     "metadata": {},
     "output_type": "display_data"
    }
   ],
   "source": [
    "# For D coefficients\n",
    "hcubature(x -> real(dYlm(x[1],x[2],8,0)*sin(x[1])^2*sphericalharmonic(x[1],x[2],4,0)*sin(x[1])),[0.0001,0.0001],[π,2π],reltol=1e-4)[1]"
   ]
  },
  {
   "cell_type": "code",
   "execution_count": 143,
   "metadata": {},
   "outputs": [
    {
     "data": {
      "text/plain": [
       "-1.1802504147482218e-17"
      ]
     },
     "metadata": {},
     "output_type": "display_data"
    }
   ],
   "source": [
    "# For C^1 coefficients\n",
    "hcubature(x -> real(sphericalharmonic(x[1],x[2],2,1)*(3*cos(x[1])^2 - 1)/2*sphericalharmonic(x[1],x[2],0,0)*sin(x[1])),[0.0001,0.0001],[π,2π],reltol=1e-4)[1]"
   ]
  },
  {
   "cell_type": "code",
   "execution_count": 133,
   "metadata": {},
   "outputs": [],
   "source": []
  }
 ],
 "metadata": {
  "kernelspec": {
   "display_name": "Julia 1.7.3",
   "language": "julia",
   "name": "julia-1.7"
  },
  "language_info": {
   "file_extension": ".jl",
   "mimetype": "application/julia",
   "name": "julia",
   "version": "1.7.3"
  },
  "orig_nbformat": 4
 },
 "nbformat": 4,
 "nbformat_minor": 2
}
