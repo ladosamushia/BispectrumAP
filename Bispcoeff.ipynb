{
 "cells": [
  {
   "cell_type": "code",
   "execution_count": 3,
   "metadata": {},
   "outputs": [],
   "source": [
    "import SphericalHarmonics.sphericalharmonic\n",
    "using Cubature\n",
    "using Plots"
   ]
  },
  {
   "cell_type": "code",
   "execution_count": 4,
   "metadata": {},
   "outputs": [
    {
     "data": {
      "text/plain": [
       "-0.18910100312194328 - 0.32753254516944075im"
      ]
     },
     "metadata": {},
     "output_type": "display_data"
    }
   ],
   "source": [
    "sphericalharmonic(π/3, π/3, l = 500, m = 250)"
   ]
  },
  {
   "cell_type": "code",
   "execution_count": 5,
   "metadata": {},
   "outputs": [
    {
     "data": {
      "text/plain": [
       "dYlm (generic function with 1 method)"
      ]
     },
     "metadata": {},
     "output_type": "display_data"
    }
   ],
   "source": [
    "function dYlm(θ, ϕ, l, m)\n",
    "    f1 = sphericalharmonic(θ, ϕ, l, m)\n",
    "    f2 = sphericalharmonic(θ + 0.001, ϕ, l, m)\n",
    "    return (f2 - f1)/0.001\n",
    "end"
   ]
  },
  {
   "cell_type": "code",
   "execution_count": 29,
   "metadata": {},
   "outputs": [
    {
     "data": {
      "text/plain": [
       "0.7666512661200393"
      ]
     },
     "metadata": {},
     "output_type": "display_data"
    }
   ],
   "source": [
    "# For D coefficients\n",
    "hcubature(x -> dYlm(x[1],x[2],2,0)*cos(x[1])*sin(x[1])^2*sphericalharmonic(x[1], x[2], 4, 0),[0.0,0.0],[π,2π],reltol=1e-4)[1]*1.5"
   ]
  },
  {
   "cell_type": "code",
   "execution_count": 14,
   "metadata": {},
   "outputs": [
    {
     "data": {
      "text/plain": [
       "μ3 (generic function with 2 methods)"
      ]
     },
     "metadata": {},
     "output_type": "display_data"
    }
   ],
   "source": [
    "function μ1(θ,ϕ)\n",
    "    return cos(θ)\n",
    "end\n",
    "function μ2(θ,ϕ)\n",
    "    μ = cos(θ)\n",
    "    ν = sin(θ)\n",
    "    return -μ*0.5 + ν*0.866*sin(ϕ)\n",
    "end\n",
    "function μ3(θ,ϕ)\n",
    "    μ = cos(θ)\n",
    "    ν = sin(θ)\n",
    "    return -μ*0.5 - ν*0.866*sin(ϕ)\n",
    "end"
   ]
  },
  {
   "cell_type": "code",
   "execution_count": 20,
   "metadata": {},
   "outputs": [
    {
     "data": {
      "text/plain": [
       "0.16078524927613988"
      ]
     },
     "metadata": {},
     "output_type": "display_data"
    }
   ],
   "source": [
    "# For C^1 coefficients\n",
    "hcubature(x -> sphericalharmonic(x[1],x[2],2,0)*sphericalharmonic(x[1],x[2],4,0)*sqrt(1 - μ1(x[1],x[2])^2)*(3*μ1(x[1],x[2])^2-1)*sin(x[1]),[0.0,0.0],[π,2π],reltol=1e-4)[1]/2"
   ]
  },
  {
   "cell_type": "code",
   "execution_count": 23,
   "metadata": {},
   "outputs": [
    {
     "data": {
      "text/plain": [
       "-0.01826684954011669"
      ]
     },
     "metadata": {},
     "output_type": "display_data"
    }
   ],
   "source": [
    "# For C^1 coefficients\n",
    "hcubature(x -> sphericalharmonic(x[1],x[2],2,0)*sphericalharmonic(x[1],x[2],4,0)*sqrt(1 - μ2(x[1],x[2])^2)*(3*μ2(x[1],x[2])^2-1)*sin(x[1]),[0.0,0.0],[π,2π],reltol=1e-4)[1]/2"
   ]
  },
  {
   "cell_type": "code",
   "execution_count": 26,
   "metadata": {},
   "outputs": [
    {
     "data": {
      "text/plain": [
       "-0.018266849540116682"
      ]
     },
     "metadata": {},
     "output_type": "display_data"
    }
   ],
   "source": [
    "# For C^1 coefficients\n",
    "hcubature(x -> sphericalharmonic(x[1],x[2],2,0)*sphericalharmonic(x[1],x[2],4,0)*sqrt(1 - μ3(x[1],x[2])^2)*(3*μ3(x[1],x[2])^2-1)*sin(x[1]),[0.0,0.0],[π,2π],reltol=1e-4)[1]/2"
   ]
  },
  {
   "cell_type": "code",
   "execution_count": null,
   "metadata": {},
   "outputs": [],
   "source": []
  }
 ],
 "metadata": {
  "kernelspec": {
   "display_name": "Julia 1.8.5",
   "language": "julia",
   "name": "julia-1.8"
  },
  "language_info": {
   "file_extension": ".jl",
   "mimetype": "application/julia",
   "name": "julia",
   "version": "1.8.5"
  },
  "orig_nbformat": 4
 },
 "nbformat": 4,
 "nbformat_minor": 2
}
