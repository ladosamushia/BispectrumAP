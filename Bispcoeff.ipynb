{
 "cells": [
  {
   "cell_type": "code",
   "execution_count": 3,
   "metadata": {},
   "outputs": [],
   "source": [
    "import SphericalHarmonics.sphericalharmonic\n",
    "using Cubature\n",
    "using Plots"
   ]
  },
  {
   "cell_type": "code",
   "execution_count": 4,
   "metadata": {},
   "outputs": [
    {
     "data": {
      "text/plain": [
       "-0.18910100312194328 - 0.32753254516944075im"
      ]
     },
     "metadata": {},
     "output_type": "display_data"
    }
   ],
   "source": [
    "sphericalharmonic(π/3, π/3, l = 500, m = 250)"
   ]
  },
  {
   "cell_type": "code",
   "execution_count": 5,
   "metadata": {},
   "outputs": [
    {
     "data": {
      "text/plain": [
       "dYlm (generic function with 1 method)"
      ]
     },
     "metadata": {},
     "output_type": "display_data"
    }
   ],
   "source": [
    "function dYlm(θ, ϕ, l, m)\n",
    "    f1 = sphericalharmonic(θ, ϕ, l, m)\n",
    "    f2 = sphericalharmonic(θ + 0.001, ϕ, l, m)\n",
    "    return (f2 - f1)/0.001\n",
    "end"
   ]
  },
  {
   "cell_type": "code",
   "execution_count": 57,
   "metadata": {},
   "outputs": [
    {
     "data": {
      "text/plain": [
       "μ3 (generic function with 2 methods)"
      ]
     },
     "metadata": {},
     "output_type": "display_data"
    }
   ],
   "source": [
    "function μ1(θ,ϕ)\n",
    "    return cos(θ)\n",
    "end\n",
    "function μ2(θ,ϕ)\n",
    "    μ = cos(θ)\n",
    "    ν = sin(θ)\n",
    "    return -μ*0.5 + ν*0.866*sin(ϕ)\n",
    "end\n",
    "function μ3(θ,ϕ)\n",
    "    μ = cos(θ)\n",
    "    ν = sin(θ)\n",
    "    return -μ*0.5 - ν*0.866*sin(ϕ)\n",
    "end"
   ]
  },
  {
   "cell_type": "code",
   "execution_count": 77,
   "metadata": {},
   "outputs": [
    {
     "data": {
      "text/plain": [
       "μ3 (generic function with 2 methods)"
      ]
     },
     "metadata": {},
     "output_type": "display_data"
    }
   ],
   "source": [
    "function μ1(θ,ϕ)\n",
    "    return cos(θ)\n",
    "end\n",
    "function μ2(θ,ϕ)\n",
    "    μ = cos(θ)\n",
    "    ν = sin(θ)\n",
    "    μϕ = cos(ϕ)\n",
    "    νϕ = sin(ϕ)\n",
    "    μ_ = cos(θ - π/3)\n",
    "    ν_ = sin(θ - π/3)\n",
    "    return -νϕ*ν_ - μ*ν*(1 - μϕ)*ν_ - μϕ*μ_ - μ^2*μ_*(1 - μϕ)\n",
    "end\n",
    "function μ3(θ,ϕ)\n",
    "    μ = cos(θ)\n",
    "    ν = sin(θ)\n",
    "    μϕ = cos(ϕ)\n",
    "    νϕ = sin(ϕ)\n",
    "    μ_ = cos(π/2 - θ - π/3)\n",
    "    ν_ = sin(π/2 - θ - π/3)\n",
    "    return -νϕ*ν_ - μ*ν*(1 - μϕ)*ν_ - μϕ*μ_ - μ^2*μ_*(1 - μϕ)\n",
    "end"
   ]
  },
  {
   "cell_type": "code",
   "execution_count": 45,
   "metadata": {},
   "outputs": [
    {
     "data": {
      "text/plain": [
       "0.7666512661200393"
      ]
     },
     "metadata": {},
     "output_type": "display_data"
    }
   ],
   "source": [
    "# For D coefficients\n",
    "hcubature(x -> dYlm(x[1],x[2],2,0)*cos(x[1])*sin(x[1])^2*sphericalharmonic(x[1], x[2], 4, 0),[0.0,0.0],[π,2π],reltol=1e-4)[1]*1.5"
   ]
  },
  {
   "cell_type": "code",
   "execution_count": 91,
   "metadata": {},
   "outputs": [
    {
     "data": {
      "text/plain": [
       "0.25974027608601113"
      ]
     },
     "metadata": {},
     "output_type": "display_data"
    }
   ],
   "source": [
    "# For C^1 coefficients\n",
    "hcubature(x -> sphericalharmonic(x[1],x[2],4,0)*sphericalharmonic(x[1],x[2],4,0)*(3*μ1(x[1],x[2])^2-1)/2*sin(x[1]),[0.0,0.0],[π,2π],reltol=1e-4)[1]"
   ]
  },
  {
   "cell_type": "code",
   "execution_count": 94,
   "metadata": {},
   "outputs": [
    {
     "data": {
      "text/plain": [
       "0.34496747146999085"
      ]
     },
     "metadata": {},
     "output_type": "display_data"
    }
   ],
   "source": [
    "# For C^1 coefficients\n",
    "hcubature(x -> sphericalharmonic(x[1],x[2],4,0)*sphericalharmonic(x[1],x[2],4,0)*(3*μ2(x[1],x[2])^2-1)/2*sin(x[1]),[0.0,0.0],[π,2π],reltol=1e-4)[1]"
   ]
  },
  {
   "cell_type": "code",
   "execution_count": 96,
   "metadata": {},
   "outputs": [
    {
     "data": {
      "text/plain": [
       "0.4521853812068368"
      ]
     },
     "metadata": {},
     "output_type": "display_data"
    }
   ],
   "source": [
    "# For C^1 coefficients\n",
    "hcubature(x -> sphericalharmonic(x[1],x[2],4,0)*sphericalharmonic(x[1],x[2],4,0)*(3*μ3(x[1],x[2])^2-1)/2*sin(x[1]),[0.0,0.0],[π,2π],reltol=1e-4)[1]"
   ]
  },
  {
   "cell_type": "code",
   "execution_count": 55,
   "metadata": {},
   "outputs": [
    {
     "data": {
      "text/plain": [
       "μ2 (generic function with 2 methods)"
      ]
     },
     "metadata": {},
     "output_type": "display_data"
    }
   ],
   "source": [
    "μ2"
   ]
  }
 ],
 "metadata": {
  "kernelspec": {
   "display_name": "Julia 1.8.5",
   "language": "julia",
   "name": "julia-1.8"
  },
  "language_info": {
   "file_extension": ".jl",
   "mimetype": "application/julia",
   "name": "julia",
   "version": "1.8.5"
  },
  "orig_nbformat": 4
 },
 "nbformat": 4,
 "nbformat_minor": 2
}
